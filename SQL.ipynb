{
  "nbformat": 4,
  "nbformat_minor": 0,
  "metadata": {
    "colab": {
      "provenance": [],
      "authorship_tag": "ABX9TyMAl2jp+WNcwQxy+tGjUajI",
      "include_colab_link": true
    },
    "kernelspec": {
      "name": "python3",
      "display_name": "Python 3"
    },
    "language_info": {
      "name": "python"
    }
  },
  "cells": [
    {
      "cell_type": "markdown",
      "metadata": {
        "id": "view-in-github",
        "colab_type": "text"
      },
      "source": [
        "<a href=\"https://colab.research.google.com/github/varunjakanur/BC/blob/main/SQL.ipynb\" target=\"_parent\"><img src=\"https://colab.research.google.com/assets/colab-badge.svg\" alt=\"Open In Colab\"/></a>"
      ]
    },
    {
      "cell_type": "code",
      "execution_count": null,
      "metadata": {
        "colab": {
          "base_uri": "https://localhost:8080/"
        },
        "id": "3yWqne78We98",
        "outputId": "bc205e26-2a7d-4985-9db2-613932b9abb3"
      },
      "outputs": [
        {
          "output_type": "stream",
          "name": "stdout",
          "text": [
            "Requirement already satisfied: ipython-sql in /usr/local/lib/python3.10/dist-packages (0.5.0)\n",
            "Requirement already satisfied: prettytable in /usr/local/lib/python3.10/dist-packages (from ipython-sql) (3.10.0)\n",
            "Requirement already satisfied: ipython in /usr/local/lib/python3.10/dist-packages (from ipython-sql) (7.34.0)\n",
            "Requirement already satisfied: sqlalchemy>=2.0 in /usr/local/lib/python3.10/dist-packages (from ipython-sql) (2.0.29)\n",
            "Requirement already satisfied: sqlparse in /usr/local/lib/python3.10/dist-packages (from ipython-sql) (0.5.0)\n",
            "Requirement already satisfied: six in /usr/local/lib/python3.10/dist-packages (from ipython-sql) (1.16.0)\n",
            "Requirement already satisfied: ipython-genutils in /usr/local/lib/python3.10/dist-packages (from ipython-sql) (0.2.0)\n",
            "Requirement already satisfied: typing-extensions>=4.6.0 in /usr/local/lib/python3.10/dist-packages (from sqlalchemy>=2.0->ipython-sql) (4.11.0)\n",
            "Requirement already satisfied: greenlet!=0.4.17 in /usr/local/lib/python3.10/dist-packages (from sqlalchemy>=2.0->ipython-sql) (3.0.3)\n",
            "Requirement already satisfied: setuptools>=18.5 in /usr/local/lib/python3.10/dist-packages (from ipython->ipython-sql) (67.7.2)\n",
            "Collecting jedi>=0.16 (from ipython->ipython-sql)\n",
            "  Downloading jedi-0.19.1-py2.py3-none-any.whl (1.6 MB)\n",
            "\u001b[2K     \u001b[90m━━━━━━━━━━━━━━━━━━━━━━━━━━━━━━━━━━━━━━━━\u001b[0m \u001b[32m1.6/1.6 MB\u001b[0m \u001b[31m7.7 MB/s\u001b[0m eta \u001b[36m0:00:00\u001b[0m\n",
            "\u001b[?25hRequirement already satisfied: decorator in /usr/local/lib/python3.10/dist-packages (from ipython->ipython-sql) (4.4.2)\n",
            "Requirement already satisfied: pickleshare in /usr/local/lib/python3.10/dist-packages (from ipython->ipython-sql) (0.7.5)\n",
            "Requirement already satisfied: traitlets>=4.2 in /usr/local/lib/python3.10/dist-packages (from ipython->ipython-sql) (5.7.1)\n",
            "Requirement already satisfied: prompt-toolkit!=3.0.0,!=3.0.1,<3.1.0,>=2.0.0 in /usr/local/lib/python3.10/dist-packages (from ipython->ipython-sql) (3.0.43)\n",
            "Requirement already satisfied: pygments in /usr/local/lib/python3.10/dist-packages (from ipython->ipython-sql) (2.16.1)\n",
            "Requirement already satisfied: backcall in /usr/local/lib/python3.10/dist-packages (from ipython->ipython-sql) (0.2.0)\n",
            "Requirement already satisfied: matplotlib-inline in /usr/local/lib/python3.10/dist-packages (from ipython->ipython-sql) (0.1.7)\n",
            "Requirement already satisfied: pexpect>4.3 in /usr/local/lib/python3.10/dist-packages (from ipython->ipython-sql) (4.9.0)\n",
            "Requirement already satisfied: wcwidth in /usr/local/lib/python3.10/dist-packages (from prettytable->ipython-sql) (0.2.13)\n",
            "Requirement already satisfied: parso<0.9.0,>=0.8.3 in /usr/local/lib/python3.10/dist-packages (from jedi>=0.16->ipython->ipython-sql) (0.8.4)\n",
            "Requirement already satisfied: ptyprocess>=0.5 in /usr/local/lib/python3.10/dist-packages (from pexpect>4.3->ipython->ipython-sql) (0.7.0)\n",
            "Installing collected packages: jedi\n",
            "Successfully installed jedi-0.19.1\n"
          ]
        }
      ],
      "source": [
        "!pip install ipython-sql"
      ]
    },
    {
      "cell_type": "code",
      "source": [
        "%load_ext sql\n"
      ],
      "metadata": {
        "id": "s3k32taAWvuM"
      },
      "execution_count": null,
      "outputs": []
    },
    {
      "cell_type": "code",
      "source": [
        "%sql sqlite://"
      ],
      "metadata": {
        "id": "r7F7dJ98Wvqe"
      },
      "execution_count": null,
      "outputs": []
    },
    {
      "cell_type": "code",
      "source": [
        "%%sql\n",
        "create table student(\n",
        "  id int primary key,\n",
        "  name varchar(50),\n",
        "  age int not null\n",
        ");"
      ],
      "metadata": {
        "colab": {
          "base_uri": "https://localhost:8080/"
        },
        "id": "ARQuh5ZmWvfG",
        "outputId": "c3364c16-0241-40a5-f721-b60d5970e742"
      },
      "execution_count": null,
      "outputs": [
        {
          "output_type": "stream",
          "name": "stderr",
          "text": [
            "UsageError: Cell magic `%%sql` not found.\n"
          ]
        }
      ]
    },
    {
      "cell_type": "code",
      "source": [
        "%%sql\n",
        "select * from student;"
      ],
      "metadata": {
        "colab": {
          "base_uri": "https://localhost:8080/",
          "height": 74
        },
        "id": "5fte1_zWXfyW",
        "outputId": "1009bd1e-798f-4d63-f622-e60d6becf939"
      },
      "execution_count": null,
      "outputs": [
        {
          "output_type": "stream",
          "name": "stdout",
          "text": [
            " * sqlite://\n",
            "Done.\n"
          ]
        },
        {
          "output_type": "execute_result",
          "data": {
            "text/plain": [
              "[]"
            ],
            "text/html": [
              "<table>\n",
              "    <thead>\n",
              "        <tr>\n",
              "            <th>id</th>\n",
              "            <th>name</th>\n",
              "            <th>age</th>\n",
              "        </tr>\n",
              "    </thead>\n",
              "    <tbody>\n",
              "    </tbody>\n",
              "</table>"
            ]
          },
          "metadata": {},
          "execution_count": 10
        }
      ]
    },
    {
      "cell_type": "code",
      "source": [
        "%%sql\n",
        "insert into student values(1,\"varun\",26);\n",
        "insert into student values(2,\"aman\",28);"
      ],
      "metadata": {
        "colab": {
          "base_uri": "https://localhost:8080/"
        },
        "id": "ltfBHUeTXfv7",
        "outputId": "18c1532c-4216-45ff-9ed4-af52819749e4"
      },
      "execution_count": null,
      "outputs": [
        {
          "output_type": "stream",
          "name": "stdout",
          "text": [
            " * sqlite://\n",
            "1 rows affected.\n",
            "1 rows affected.\n"
          ]
        },
        {
          "output_type": "execute_result",
          "data": {
            "text/plain": [
              "[]"
            ]
          },
          "metadata": {},
          "execution_count": 11
        }
      ]
    },
    {
      "cell_type": "code",
      "source": [
        "%%sql\n",
        "select * from student;"
      ],
      "metadata": {
        "colab": {
          "base_uri": "https://localhost:8080/",
          "height": 116
        },
        "id": "6KczyUrQXftr",
        "outputId": "7ced73eb-97a3-48fd-8c02-4639973fd02b"
      },
      "execution_count": null,
      "outputs": [
        {
          "output_type": "stream",
          "name": "stdout",
          "text": [
            " * sqlite://\n",
            "Done.\n"
          ]
        },
        {
          "output_type": "execute_result",
          "data": {
            "text/plain": [
              "[(1, 'varun', 26), (2, 'aman', 28)]"
            ],
            "text/html": [
              "<table>\n",
              "    <thead>\n",
              "        <tr>\n",
              "            <th>id</th>\n",
              "            <th>name</th>\n",
              "            <th>age</th>\n",
              "        </tr>\n",
              "    </thead>\n",
              "    <tbody>\n",
              "        <tr>\n",
              "            <td>1</td>\n",
              "            <td>varun</td>\n",
              "            <td>26</td>\n",
              "        </tr>\n",
              "        <tr>\n",
              "            <td>2</td>\n",
              "            <td>aman</td>\n",
              "            <td>28</td>\n",
              "        </tr>\n",
              "    </tbody>\n",
              "</table>"
            ]
          },
          "metadata": {},
          "execution_count": 12
        }
      ]
    },
    {
      "cell_type": "code",
      "source": [
        "%%sql\n",
        "insert into student values(2,\"aman\",28);"
      ],
      "metadata": {
        "colab": {
          "base_uri": "https://localhost:8080/"
        },
        "id": "7D_l0CAQXfrU",
        "outputId": "36a8f670-67b4-412b-a412-0f2944f15c28"
      },
      "execution_count": null,
      "outputs": [
        {
          "output_type": "stream",
          "name": "stdout",
          "text": [
            " * sqlite://\n",
            "1 rows affected.\n"
          ]
        },
        {
          "output_type": "execute_result",
          "data": {
            "text/plain": [
              "[]"
            ]
          },
          "metadata": {},
          "execution_count": 10
        }
      ]
    },
    {
      "cell_type": "code",
      "source": [
        "%%sql\n",
        "select * from student;"
      ],
      "metadata": {
        "colab": {
          "base_uri": "https://localhost:8080/",
          "height": 116
        },
        "id": "5c1Z6fvRXfo2",
        "outputId": "c4f19a7c-c058-40ee-d669-8470320d01c1"
      },
      "execution_count": null,
      "outputs": [
        {
          "output_type": "stream",
          "name": "stdout",
          "text": [
            " * sqlite://\n",
            "Done.\n"
          ]
        },
        {
          "output_type": "execute_result",
          "data": {
            "text/plain": [
              "[(1, 'varun', 26), (2, 'aman', 28)]"
            ],
            "text/html": [
              "<table>\n",
              "    <thead>\n",
              "        <tr>\n",
              "            <th>id</th>\n",
              "            <th>name</th>\n",
              "            <th>age</th>\n",
              "        </tr>\n",
              "    </thead>\n",
              "    <tbody>\n",
              "        <tr>\n",
              "            <td>1</td>\n",
              "            <td>varun</td>\n",
              "            <td>26</td>\n",
              "        </tr>\n",
              "        <tr>\n",
              "            <td>2</td>\n",
              "            <td>aman</td>\n",
              "            <td>28</td>\n",
              "        </tr>\n",
              "    </tbody>\n",
              "</table>"
            ]
          },
          "metadata": {},
          "execution_count": 13
        }
      ]
    },
    {
      "cell_type": "code",
      "source": [
        "%%sql\n",
        "create database if not exists collage"
      ],
      "metadata": {
        "id": "Fm6ZzOQ0Xfe8",
        "colab": {
          "base_uri": "https://localhost:8080/"
        },
        "outputId": "b3070f35-5e55-4642-bfcf-06ecb991e5f0"
      },
      "execution_count": null,
      "outputs": [
        {
          "output_type": "stream",
          "name": "stdout",
          "text": [
            " * sqlite://\n",
            "(sqlite3.OperationalError) near \"database\": syntax error\n",
            "[SQL: create database if not exists collage]\n",
            "(Background on this error at: https://sqlalche.me/e/20/e3q8)\n"
          ]
        }
      ]
    },
    {
      "cell_type": "code",
      "source": [
        "%%sql\n",
        "show databases"
      ],
      "metadata": {
        "id": "zeVqTGA8XfcF",
        "colab": {
          "base_uri": "https://localhost:8080/"
        },
        "outputId": "b682b3da-2cbb-423a-a54e-df5932f8b77a"
      },
      "execution_count": null,
      "outputs": [
        {
          "output_type": "stream",
          "name": "stdout",
          "text": [
            " * sqlite://\n",
            "(sqlite3.OperationalError) near \"show\": syntax error\n",
            "[SQL: show databases]\n",
            "(Background on this error at: https://sqlalche.me/e/20/e3q8)\n"
          ]
        }
      ]
    },
    {
      "cell_type": "code",
      "source": [
        "%%sql\n",
        "drop table if exists student;"
      ],
      "metadata": {
        "colab": {
          "base_uri": "https://localhost:8080/"
        },
        "id": "Lx04ub5g19eo",
        "outputId": "8e601deb-eea4-4c2a-9fe8-7a996f030779"
      },
      "execution_count": null,
      "outputs": [
        {
          "output_type": "stream",
          "name": "stdout",
          "text": [
            " * sqlite://\n",
            "Done.\n"
          ]
        },
        {
          "output_type": "execute_result",
          "data": {
            "text/plain": [
              "[]"
            ]
          },
          "metadata": {},
          "execution_count": 18
        }
      ]
    },
    {
      "cell_type": "code",
      "source": [
        "%%sql\n",
        "show tables;"
      ],
      "metadata": {
        "id": "Bg4otUILXfZf",
        "colab": {
          "base_uri": "https://localhost:8080/"
        },
        "outputId": "32e4f933-3d4c-4c0d-8349-88b7dd5a5f41"
      },
      "execution_count": null,
      "outputs": [
        {
          "output_type": "stream",
          "name": "stdout",
          "text": [
            " * sqlite://\n",
            "(sqlite3.OperationalError) near \"show\": syntax error\n",
            "[SQL: show tables;]\n",
            "(Background on this error at: https://sqlalche.me/e/20/e3q8)\n"
          ]
        }
      ]
    },
    {
      "cell_type": "code",
      "source": [
        "%%sql\n",
        "create table student(\n",
        "  roll_no int primary key,\n",
        "  name varchar(50)\n",
        ");\n",
        "\n",
        "insert into student (roll_no,name)values\n",
        "                    (101,\"karan\"),\n",
        "                    (102,\"arjun\"),\n",
        "                    (103,\"ram\");"
      ],
      "metadata": {
        "id": "MJ01k66TXfSj",
        "colab": {
          "base_uri": "https://localhost:8080/"
        },
        "outputId": "c1514f28-b577-43b8-af20-a014916189e5"
      },
      "execution_count": null,
      "outputs": [
        {
          "output_type": "stream",
          "name": "stdout",
          "text": [
            " * sqlite://\n",
            "Done.\n",
            "3 rows affected.\n"
          ]
        },
        {
          "output_type": "execute_result",
          "data": {
            "text/plain": [
              "[]"
            ]
          },
          "metadata": {},
          "execution_count": 19
        }
      ]
    },
    {
      "cell_type": "code",
      "source": [
        "%%sql\n",
        "select * from student;"
      ],
      "metadata": {
        "id": "HeKHDECdXfF2",
        "colab": {
          "base_uri": "https://localhost:8080/",
          "height": 137
        },
        "outputId": "32fe87dd-073b-449c-95c1-42ba813b8d6b"
      },
      "execution_count": null,
      "outputs": [
        {
          "output_type": "stream",
          "name": "stdout",
          "text": [
            " * sqlite://\n",
            "Done.\n"
          ]
        },
        {
          "output_type": "execute_result",
          "data": {
            "text/plain": [
              "[(101, 'karan'), (102, 'arjun'), (103, 'ram')]"
            ],
            "text/html": [
              "<table>\n",
              "    <thead>\n",
              "        <tr>\n",
              "            <th>roll_no</th>\n",
              "            <th>name</th>\n",
              "        </tr>\n",
              "    </thead>\n",
              "    <tbody>\n",
              "        <tr>\n",
              "            <td>101</td>\n",
              "            <td>karan</td>\n",
              "        </tr>\n",
              "        <tr>\n",
              "            <td>102</td>\n",
              "            <td>arjun</td>\n",
              "        </tr>\n",
              "        <tr>\n",
              "            <td>103</td>\n",
              "            <td>ram</td>\n",
              "        </tr>\n",
              "    </tbody>\n",
              "</table>"
            ]
          },
          "metadata": {},
          "execution_count": 20
        }
      ]
    },
    {
      "cell_type": "code",
      "source": [
        "%%sql\n",
        "insert into student values(104,\"shyam\");"
      ],
      "metadata": {
        "id": "XRcP2tr3XfDM",
        "colab": {
          "base_uri": "https://localhost:8080/"
        },
        "outputId": "5931642f-7bb2-4438-ea8c-f49310f47e03"
      },
      "execution_count": null,
      "outputs": [
        {
          "output_type": "stream",
          "name": "stdout",
          "text": [
            " * sqlite://\n",
            "1 rows affected.\n"
          ]
        },
        {
          "output_type": "execute_result",
          "data": {
            "text/plain": [
              "[]"
            ]
          },
          "metadata": {},
          "execution_count": 22
        }
      ]
    },
    {
      "cell_type": "code",
      "source": [
        "%%sql\n",
        "CREATE DATABASE xyz;"
      ],
      "metadata": {
        "colab": {
          "base_uri": "https://localhost:8080/"
        },
        "id": "4qNFVgI72Wif",
        "outputId": "6818383b-3f41-4204-ff14-3018e2eabc59"
      },
      "execution_count": null,
      "outputs": [
        {
          "output_type": "stream",
          "name": "stdout",
          "text": [
            " * sqlite://\n",
            "(sqlite3.OperationalError) near \"DATABASE\": syntax error\n",
            "[SQL: CREATE DATABASE xyz;]\n",
            "(Background on this error at: https://sqlalche.me/e/20/e3q8)\n"
          ]
        }
      ]
    },
    {
      "cell_type": "code",
      "source": [
        "%%sql\n",
        "create table employee(\n",
        "  id int primary key,\n",
        "  name varchar(50),\n",
        "  salary int\n",
        ");"
      ],
      "metadata": {
        "colab": {
          "base_uri": "https://localhost:8080/"
        },
        "id": "9YiaDeFI2Wev",
        "outputId": "ef0195dc-89d6-4f38-9a39-6fc25ac9a7b0"
      },
      "execution_count": null,
      "outputs": [
        {
          "output_type": "stream",
          "name": "stdout",
          "text": [
            " * sqlite://\n",
            "Done.\n"
          ]
        },
        {
          "output_type": "execute_result",
          "data": {
            "text/plain": [
              "[]"
            ]
          },
          "metadata": {},
          "execution_count": 27
        }
      ]
    },
    {
      "cell_type": "code",
      "source": [
        "%%sql\n",
        "insert into employee values\n",
        "                    (1,\"adam\",25000),\n",
        "                    (2,\"bob\",30000),\n",
        "                    (3,\"casey\",40000);"
      ],
      "metadata": {
        "colab": {
          "base_uri": "https://localhost:8080/"
        },
        "id": "UcY_Hvap2Wce",
        "outputId": "67787198-0f4e-41fb-e633-f0275623cd30"
      },
      "execution_count": null,
      "outputs": [
        {
          "output_type": "stream",
          "name": "stdout",
          "text": [
            " * sqlite://\n",
            "3 rows affected.\n"
          ]
        },
        {
          "output_type": "execute_result",
          "data": {
            "text/plain": [
              "[]"
            ]
          },
          "metadata": {},
          "execution_count": 29
        }
      ]
    },
    {
      "cell_type": "code",
      "source": [
        "%%sql\n",
        "select * from employee;"
      ],
      "metadata": {
        "colab": {
          "base_uri": "https://localhost:8080/",
          "height": 137
        },
        "id": "fbTzq0_a2WSu",
        "outputId": "8044f74e-fdc2-447e-c67d-5a91103c69cb"
      },
      "execution_count": null,
      "outputs": [
        {
          "output_type": "stream",
          "name": "stdout",
          "text": [
            " * sqlite://\n",
            "Done.\n"
          ]
        },
        {
          "output_type": "execute_result",
          "data": {
            "text/plain": [
              "[(1, 'adam', 25000), (2, 'bob', 30000), (3, 'casey', 40000)]"
            ],
            "text/html": [
              "<table>\n",
              "    <thead>\n",
              "        <tr>\n",
              "            <th>id</th>\n",
              "            <th>name</th>\n",
              "            <th>salary</th>\n",
              "        </tr>\n",
              "    </thead>\n",
              "    <tbody>\n",
              "        <tr>\n",
              "            <td>1</td>\n",
              "            <td>adam</td>\n",
              "            <td>25000</td>\n",
              "        </tr>\n",
              "        <tr>\n",
              "            <td>2</td>\n",
              "            <td>bob</td>\n",
              "            <td>30000</td>\n",
              "        </tr>\n",
              "        <tr>\n",
              "            <td>3</td>\n",
              "            <td>casey</td>\n",
              "            <td>40000</td>\n",
              "        </tr>\n",
              "    </tbody>\n",
              "</table>"
            ]
          },
          "metadata": {},
          "execution_count": 30
        }
      ]
    },
    {
      "cell_type": "code",
      "source": [
        "%%sql\n",
        "select name from employee\n",
        "where salary=30000;"
      ],
      "metadata": {
        "colab": {
          "base_uri": "https://localhost:8080/",
          "height": 95
        },
        "id": "5IOF7sk1-Dp2",
        "outputId": "ea138c84-6ce9-4bd8-f9e7-f6bc7924f9e3"
      },
      "execution_count": null,
      "outputs": [
        {
          "output_type": "stream",
          "name": "stdout",
          "text": [
            " * sqlite://\n",
            "Done.\n"
          ]
        },
        {
          "output_type": "execute_result",
          "data": {
            "text/plain": [
              "[('bob',)]"
            ],
            "text/html": [
              "<table>\n",
              "    <thead>\n",
              "        <tr>\n",
              "            <th>name</th>\n",
              "        </tr>\n",
              "    </thead>\n",
              "    <tbody>\n",
              "        <tr>\n",
              "            <td>bob</td>\n",
              "        </tr>\n",
              "    </tbody>\n",
              "</table>"
            ]
          },
          "metadata": {},
          "execution_count": 42
        }
      ]
    },
    {
      "cell_type": "code",
      "source": [
        "%%sql\n",
        "select id,salary from employee\n",
        "where name=\"bob\" OR id=3;"
      ],
      "metadata": {
        "colab": {
          "base_uri": "https://localhost:8080/",
          "height": 116
        },
        "id": "VN7Qsddx-DnD",
        "outputId": "75f675dc-a114-415b-f954-f524e2bda627"
      },
      "execution_count": null,
      "outputs": [
        {
          "output_type": "stream",
          "name": "stdout",
          "text": [
            " * sqlite://\n",
            "Done.\n"
          ]
        },
        {
          "output_type": "execute_result",
          "data": {
            "text/plain": [
              "[(2, 30000), (3, 40000)]"
            ],
            "text/html": [
              "<table>\n",
              "    <thead>\n",
              "        <tr>\n",
              "            <th>id</th>\n",
              "            <th>salary</th>\n",
              "        </tr>\n",
              "    </thead>\n",
              "    <tbody>\n",
              "        <tr>\n",
              "            <td>2</td>\n",
              "            <td>30000</td>\n",
              "        </tr>\n",
              "        <tr>\n",
              "            <td>3</td>\n",
              "            <td>40000</td>\n",
              "        </tr>\n",
              "    </tbody>\n",
              "</table>"
            ]
          },
          "metadata": {},
          "execution_count": 44
        }
      ]
    },
    {
      "cell_type": "code",
      "source": [
        "%%sql\n",
        "select * from employee\n",
        "where salary between 30000 and 50000;"
      ],
      "metadata": {
        "colab": {
          "base_uri": "https://localhost:8080/",
          "height": 116
        },
        "id": "kDQDeg7w-DkI",
        "outputId": "ca3a0c22-3129-49da-e742-71b0181be17f"
      },
      "execution_count": null,
      "outputs": [
        {
          "output_type": "stream",
          "name": "stdout",
          "text": [
            " * sqlite://\n",
            "Done.\n"
          ]
        },
        {
          "output_type": "execute_result",
          "data": {
            "text/plain": [
              "[(2, 'bob', 30000), (3, 'casey', 40000)]"
            ],
            "text/html": [
              "<table>\n",
              "    <thead>\n",
              "        <tr>\n",
              "            <th>id</th>\n",
              "            <th>name</th>\n",
              "            <th>salary</th>\n",
              "        </tr>\n",
              "    </thead>\n",
              "    <tbody>\n",
              "        <tr>\n",
              "            <td>2</td>\n",
              "            <td>bob</td>\n",
              "            <td>30000</td>\n",
              "        </tr>\n",
              "        <tr>\n",
              "            <td>3</td>\n",
              "            <td>casey</td>\n",
              "            <td>40000</td>\n",
              "        </tr>\n",
              "    </tbody>\n",
              "</table>"
            ]
          },
          "metadata": {},
          "execution_count": 45
        }
      ]
    },
    {
      "cell_type": "code",
      "source": [
        "%%sql\n",
        "select * from employee\n",
        "where salary IN(30000,40000,50000) ;"
      ],
      "metadata": {
        "colab": {
          "base_uri": "https://localhost:8080/",
          "height": 116
        },
        "id": "htBhbGhl_kp2",
        "outputId": "c622119c-2611-400e-b124-e73281e46998"
      },
      "execution_count": null,
      "outputs": [
        {
          "output_type": "stream",
          "name": "stdout",
          "text": [
            " * sqlite://\n",
            "Done.\n"
          ]
        },
        {
          "output_type": "execute_result",
          "data": {
            "text/plain": [
              "[(2, 'bob', 30000), (3, 'casey', 40000)]"
            ],
            "text/html": [
              "<table>\n",
              "    <thead>\n",
              "        <tr>\n",
              "            <th>id</th>\n",
              "            <th>name</th>\n",
              "            <th>salary</th>\n",
              "        </tr>\n",
              "    </thead>\n",
              "    <tbody>\n",
              "        <tr>\n",
              "            <td>2</td>\n",
              "            <td>bob</td>\n",
              "            <td>30000</td>\n",
              "        </tr>\n",
              "        <tr>\n",
              "            <td>3</td>\n",
              "            <td>casey</td>\n",
              "            <td>40000</td>\n",
              "        </tr>\n",
              "    </tbody>\n",
              "</table>"
            ]
          },
          "metadata": {},
          "execution_count": 48
        }
      ]
    },
    {
      "cell_type": "code",
      "source": [
        "%%sql\n",
        "select * from employee\n",
        "where salary not IN(30000,40000,50000) ;"
      ],
      "metadata": {
        "colab": {
          "base_uri": "https://localhost:8080/",
          "height": 95
        },
        "id": "AZoHxXuy_knW",
        "outputId": "a83caab7-9e9b-49c4-abb8-053cee742fc1"
      },
      "execution_count": null,
      "outputs": [
        {
          "output_type": "stream",
          "name": "stdout",
          "text": [
            " * sqlite://\n",
            "Done.\n"
          ]
        },
        {
          "output_type": "execute_result",
          "data": {
            "text/plain": [
              "[(1, 'adam', 25000)]"
            ],
            "text/html": [
              "<table>\n",
              "    <thead>\n",
              "        <tr>\n",
              "            <th>id</th>\n",
              "            <th>name</th>\n",
              "            <th>salary</th>\n",
              "        </tr>\n",
              "    </thead>\n",
              "    <tbody>\n",
              "        <tr>\n",
              "            <td>1</td>\n",
              "            <td>adam</td>\n",
              "            <td>25000</td>\n",
              "        </tr>\n",
              "    </tbody>\n",
              "</table>"
            ]
          },
          "metadata": {},
          "execution_count": 49
        }
      ]
    },
    {
      "cell_type": "code",
      "source": [
        "%%sql\n",
        "select * from employee\n",
        "limit 2 ;"
      ],
      "metadata": {
        "colab": {
          "base_uri": "https://localhost:8080/",
          "height": 116
        },
        "id": "v2b4RcEoAAfQ",
        "outputId": "11e110b9-514c-473a-f499-7e8f09565280"
      },
      "execution_count": null,
      "outputs": [
        {
          "output_type": "stream",
          "name": "stdout",
          "text": [
            " * sqlite://\n",
            "Done.\n"
          ]
        },
        {
          "output_type": "execute_result",
          "data": {
            "text/plain": [
              "[(1, 'adam', 25000), (2, 'bob', 30000)]"
            ],
            "text/html": [
              "<table>\n",
              "    <thead>\n",
              "        <tr>\n",
              "            <th>id</th>\n",
              "            <th>name</th>\n",
              "            <th>salary</th>\n",
              "        </tr>\n",
              "    </thead>\n",
              "    <tbody>\n",
              "        <tr>\n",
              "            <td>1</td>\n",
              "            <td>adam</td>\n",
              "            <td>25000</td>\n",
              "        </tr>\n",
              "        <tr>\n",
              "            <td>2</td>\n",
              "            <td>bob</td>\n",
              "            <td>30000</td>\n",
              "        </tr>\n",
              "    </tbody>\n",
              "</table>"
            ]
          },
          "metadata": {},
          "execution_count": 50
        }
      ]
    },
    {
      "cell_type": "code",
      "source": [
        "%%sql\n",
        "select * from employee\n",
        "where salary>=30000\n",
        "limit 2 ;"
      ],
      "metadata": {
        "colab": {
          "base_uri": "https://localhost:8080/",
          "height": 116
        },
        "id": "0WzLsLcgAAce",
        "outputId": "dfac2dbf-9c93-4a01-bb4d-87d9be0eb033"
      },
      "execution_count": null,
      "outputs": [
        {
          "output_type": "stream",
          "name": "stdout",
          "text": [
            " * sqlite://\n",
            "Done.\n"
          ]
        },
        {
          "output_type": "execute_result",
          "data": {
            "text/plain": [
              "[(2, 'bob', 30000), (3, 'casey', 40000)]"
            ],
            "text/html": [
              "<table>\n",
              "    <thead>\n",
              "        <tr>\n",
              "            <th>id</th>\n",
              "            <th>name</th>\n",
              "            <th>salary</th>\n",
              "        </tr>\n",
              "    </thead>\n",
              "    <tbody>\n",
              "        <tr>\n",
              "            <td>2</td>\n",
              "            <td>bob</td>\n",
              "            <td>30000</td>\n",
              "        </tr>\n",
              "        <tr>\n",
              "            <td>3</td>\n",
              "            <td>casey</td>\n",
              "            <td>40000</td>\n",
              "        </tr>\n",
              "    </tbody>\n",
              "</table>"
            ]
          },
          "metadata": {},
          "execution_count": 51
        }
      ]
    },
    {
      "cell_type": "code",
      "source": [
        "%%sql\n",
        "select * from employee\n",
        "order by name desc;"
      ],
      "metadata": {
        "colab": {
          "base_uri": "https://localhost:8080/",
          "height": 137
        },
        "id": "lSGCfzOoAe2u",
        "outputId": "eed82671-707e-4061-b527-fea08cc7284c"
      },
      "execution_count": null,
      "outputs": [
        {
          "output_type": "stream",
          "name": "stdout",
          "text": [
            " * sqlite://\n",
            "Done.\n"
          ]
        },
        {
          "output_type": "execute_result",
          "data": {
            "text/plain": [
              "[(3, 'casey', 40000), (2, 'bob', 30000), (1, 'adam', 25000)]"
            ],
            "text/html": [
              "<table>\n",
              "    <thead>\n",
              "        <tr>\n",
              "            <th>id</th>\n",
              "            <th>name</th>\n",
              "            <th>salary</th>\n",
              "        </tr>\n",
              "    </thead>\n",
              "    <tbody>\n",
              "        <tr>\n",
              "            <td>3</td>\n",
              "            <td>casey</td>\n",
              "            <td>40000</td>\n",
              "        </tr>\n",
              "        <tr>\n",
              "            <td>2</td>\n",
              "            <td>bob</td>\n",
              "            <td>30000</td>\n",
              "        </tr>\n",
              "        <tr>\n",
              "            <td>1</td>\n",
              "            <td>adam</td>\n",
              "            <td>25000</td>\n",
              "        </tr>\n",
              "    </tbody>\n",
              "</table>"
            ]
          },
          "metadata": {},
          "execution_count": 57
        }
      ]
    },
    {
      "cell_type": "code",
      "source": [
        "%%sql\n",
        "select * from employee\n",
        "order by name desc\n",
        "limit 2;"
      ],
      "metadata": {
        "colab": {
          "base_uri": "https://localhost:8080/",
          "height": 116
        },
        "id": "12H0myAaAe0V",
        "outputId": "17fc2964-2d40-4042-af4e-a8804c2f9beb"
      },
      "execution_count": null,
      "outputs": [
        {
          "output_type": "stream",
          "name": "stdout",
          "text": [
            " * sqlite://\n",
            "Done.\n"
          ]
        },
        {
          "output_type": "execute_result",
          "data": {
            "text/plain": [
              "[(3, 'casey', 40000), (2, 'bob', 30000)]"
            ],
            "text/html": [
              "<table>\n",
              "    <thead>\n",
              "        <tr>\n",
              "            <th>id</th>\n",
              "            <th>name</th>\n",
              "            <th>salary</th>\n",
              "        </tr>\n",
              "    </thead>\n",
              "    <tbody>\n",
              "        <tr>\n",
              "            <td>3</td>\n",
              "            <td>casey</td>\n",
              "            <td>40000</td>\n",
              "        </tr>\n",
              "        <tr>\n",
              "            <td>2</td>\n",
              "            <td>bob</td>\n",
              "            <td>30000</td>\n",
              "        </tr>\n",
              "    </tbody>\n",
              "</table>"
            ]
          },
          "metadata": {},
          "execution_count": 59
        }
      ]
    },
    {
      "cell_type": "code",
      "source": [],
      "metadata": {
        "id": "azi0gEpYAexu"
      },
      "execution_count": null,
      "outputs": []
    },
    {
      "cell_type": "code",
      "source": [
        "%%sql\n",
        "create table emp(\n",
        "  id int primary key,\n",
        "  salary int default 25000\n",
        ");"
      ],
      "metadata": {
        "colab": {
          "base_uri": "https://localhost:8080/"
        },
        "id": "4nfBvbTn2WN2",
        "outputId": "31db22eb-2d28-43be-f79c-1373a62c9407"
      },
      "execution_count": null,
      "outputs": [
        {
          "output_type": "stream",
          "name": "stdout",
          "text": [
            " * sqlite://\n",
            "Done.\n"
          ]
        },
        {
          "output_type": "execute_result",
          "data": {
            "text/plain": [
              "[]"
            ]
          },
          "metadata": {},
          "execution_count": 31
        }
      ]
    },
    {
      "cell_type": "code",
      "source": [
        "%%sql\n",
        "insert into emp values(101,\" \");\n"
      ],
      "metadata": {
        "colab": {
          "base_uri": "https://localhost:8080/"
        },
        "id": "CFIj8Kn22WLf",
        "outputId": "235f2247-e018-4122-bb3b-42781e369919"
      },
      "execution_count": null,
      "outputs": [
        {
          "output_type": "stream",
          "name": "stdout",
          "text": [
            " * sqlite://\n",
            "(sqlite3.IntegrityError) UNIQUE constraint failed: emp.id\n",
            "[SQL: insert into emp values(101,\" \");]\n",
            "(Background on this error at: https://sqlalche.me/e/20/gkpj)\n"
          ]
        }
      ]
    },
    {
      "cell_type": "code",
      "source": [
        "%%sql\n",
        "insert into emp(id)values(102);\n",
        "select * from emp"
      ],
      "metadata": {
        "colab": {
          "base_uri": "https://localhost:8080/"
        },
        "id": "zxgYLBf32RmY",
        "outputId": "5f81f5bc-3b7a-4f59-9630-f67a709dc89c"
      },
      "execution_count": null,
      "outputs": [
        {
          "output_type": "stream",
          "name": "stderr",
          "text": [
            "UsageError: Cell magic `%%sql` not found.\n"
          ]
        }
      ]
    },
    {
      "cell_type": "code",
      "source": [
        "%%sql\n",
        "create table check_constraint(\n",
        "  id int primary key,\n",
        "  salary int check (salary>10000)\n",
        ");"
      ],
      "metadata": {
        "colab": {
          "base_uri": "https://localhost:8080/"
        },
        "id": "fmKIeDUa2RhI",
        "outputId": "08bd3979-37dd-47d3-9839-6e059a77e2d4"
      },
      "execution_count": null,
      "outputs": [
        {
          "output_type": "stream",
          "name": "stdout",
          "text": [
            " * sqlite://\n",
            "Done.\n"
          ]
        },
        {
          "output_type": "execute_result",
          "data": {
            "text/plain": [
              "[]"
            ]
          },
          "metadata": {},
          "execution_count": 38
        }
      ]
    },
    {
      "cell_type": "code",
      "source": [
        "%%sql\n",
        "insert into check_constraint values(1,5000);"
      ],
      "metadata": {
        "colab": {
          "base_uri": "https://localhost:8080/"
        },
        "id": "qTfdq1qz2Rau",
        "outputId": "c5c7d110-2f9b-4623-d774-12bda9c7415b"
      },
      "execution_count": null,
      "outputs": [
        {
          "output_type": "stream",
          "name": "stdout",
          "text": [
            " * sqlite://\n",
            "(sqlite3.IntegrityError) CHECK constraint failed: salary>10000\n",
            "[SQL: insert into check_constraint values(1,5000);]\n",
            "(Background on this error at: https://sqlalche.me/e/20/gkpj)\n"
          ]
        }
      ]
    },
    {
      "cell_type": "code",
      "source": [
        "%%sql\n",
        "insert into check_constraint values(1,15000);"
      ],
      "metadata": {
        "colab": {
          "base_uri": "https://localhost:8080/"
        },
        "id": "E3K3pEGJ2RYg",
        "outputId": "fa8867f6-3cbe-429e-cf6b-128ee25661be"
      },
      "execution_count": null,
      "outputs": [
        {
          "output_type": "stream",
          "name": "stdout",
          "text": [
            " * sqlite://\n",
            "1 rows affected.\n"
          ]
        },
        {
          "output_type": "execute_result",
          "data": {
            "text/plain": [
              "[]"
            ]
          },
          "metadata": {},
          "execution_count": 40
        }
      ]
    },
    {
      "cell_type": "code",
      "source": [
        "%%sql\n",
        "select * from check_constraint"
      ],
      "metadata": {
        "colab": {
          "base_uri": "https://localhost:8080/",
          "height": 95
        },
        "id": "g0fZEGb52RWJ",
        "outputId": "be96c62a-fbac-4bf4-e93c-7e5501ea1419"
      },
      "execution_count": null,
      "outputs": [
        {
          "output_type": "stream",
          "name": "stdout",
          "text": [
            " * sqlite://\n",
            "Done.\n"
          ]
        },
        {
          "output_type": "execute_result",
          "data": {
            "text/plain": [
              "[(1, 15000)]"
            ],
            "text/html": [
              "<table>\n",
              "    <thead>\n",
              "        <tr>\n",
              "            <th>id</th>\n",
              "            <th>salary</th>\n",
              "        </tr>\n",
              "    </thead>\n",
              "    <tbody>\n",
              "        <tr>\n",
              "            <td>1</td>\n",
              "            <td>15000</td>\n",
              "        </tr>\n",
              "    </tbody>\n",
              "</table>"
            ]
          },
          "metadata": {},
          "execution_count": 41
        }
      ]
    },
    {
      "cell_type": "code",
      "source": [
        "%%sql\n",
        "CREATE TABLE IF NOT EXISTS student1 (\n",
        "  id int(2) NOT NULL DEFAULT '0',\n",
        "  name varchar(50) NOT NULL DEFAULT ''\n",
        ") ;\n"
      ],
      "metadata": {
        "colab": {
          "base_uri": "https://localhost:8080/"
        },
        "id": "s84F4VI-2RTo",
        "outputId": "6f959ae6-d977-4ffe-d27d-61950f4e8a74"
      },
      "execution_count": null,
      "outputs": [
        {
          "output_type": "stream",
          "name": "stdout",
          "text": [
            " * sqlite://\n",
            "Done.\n"
          ]
        },
        {
          "output_type": "execute_result",
          "data": {
            "text/plain": [
              "[]"
            ]
          },
          "metadata": {},
          "execution_count": 11
        }
      ]
    },
    {
      "cell_type": "code",
      "source": [
        "%%sql\n",
        "\n",
        "INSERT INTO student1 (id, name) VALUES\n",
        "(1, \"John Deo\"),\n",
        "(2, \"Max Ruin\"),\n",
        "(3, \"Arnold\"),\n",
        "(4, \"Krish Star\"),\n",
        "(5, \"John Mike\"),\n",
        "(6, \"Alex John\"),\n",
        "(7, \"My John Rob\"),\n",
        "(8, \"Asruid\"),\n",
        "(9, \"Tes Qry\"),\n",
        "(10, \"Big John\"),\n",
        "(11, \"Ronald\"),\n",
        "(12, \"Recky\"),\n",
        "(13, \"Kty\");\n"
      ],
      "metadata": {
        "colab": {
          "base_uri": "https://localhost:8080/"
        },
        "id": "rXGvkNDf2RRV",
        "outputId": "0567da33-a570-425c-ad17-0c29cef9af0c"
      },
      "execution_count": null,
      "outputs": [
        {
          "output_type": "stream",
          "name": "stdout",
          "text": [
            " * sqlite://\n",
            "13 rows affected.\n"
          ]
        },
        {
          "output_type": "execute_result",
          "data": {
            "text/plain": [
              "[]"
            ]
          },
          "metadata": {},
          "execution_count": 12
        }
      ]
    },
    {
      "cell_type": "code",
      "source": [
        "%%sql\n",
        "select * from student1"
      ],
      "metadata": {
        "colab": {
          "base_uri": "https://localhost:8080/",
          "height": 347
        },
        "id": "IUrZYeTU2RO2",
        "outputId": "b874ae93-df8e-4f3d-9be3-ee1d39dd1a4d"
      },
      "execution_count": null,
      "outputs": [
        {
          "output_type": "stream",
          "name": "stdout",
          "text": [
            " * sqlite://\n",
            "Done.\n"
          ]
        },
        {
          "output_type": "execute_result",
          "data": {
            "text/plain": [
              "[(1, 'John Deo'),\n",
              " (2, 'Max Ruin'),\n",
              " (3, 'Arnold'),\n",
              " (4, 'Krish Star'),\n",
              " (5, 'John Mike'),\n",
              " (6, 'Alex John'),\n",
              " (7, 'My John Rob'),\n",
              " (8, 'Asruid'),\n",
              " (9, 'Tes Qry'),\n",
              " (10, 'Big John'),\n",
              " (11, 'Ronald'),\n",
              " (12, 'Recky'),\n",
              " (13, 'Kty')]"
            ],
            "text/html": [
              "<table>\n",
              "    <thead>\n",
              "        <tr>\n",
              "            <th>id</th>\n",
              "            <th>name</th>\n",
              "        </tr>\n",
              "    </thead>\n",
              "    <tbody>\n",
              "        <tr>\n",
              "            <td>1</td>\n",
              "            <td>John Deo</td>\n",
              "        </tr>\n",
              "        <tr>\n",
              "            <td>2</td>\n",
              "            <td>Max Ruin</td>\n",
              "        </tr>\n",
              "        <tr>\n",
              "            <td>3</td>\n",
              "            <td>Arnold</td>\n",
              "        </tr>\n",
              "        <tr>\n",
              "            <td>4</td>\n",
              "            <td>Krish Star</td>\n",
              "        </tr>\n",
              "        <tr>\n",
              "            <td>5</td>\n",
              "            <td>John Mike</td>\n",
              "        </tr>\n",
              "        <tr>\n",
              "            <td>6</td>\n",
              "            <td>Alex John</td>\n",
              "        </tr>\n",
              "        <tr>\n",
              "            <td>7</td>\n",
              "            <td>My John Rob</td>\n",
              "        </tr>\n",
              "        <tr>\n",
              "            <td>8</td>\n",
              "            <td>Asruid</td>\n",
              "        </tr>\n",
              "        <tr>\n",
              "            <td>9</td>\n",
              "            <td>Tes Qry</td>\n",
              "        </tr>\n",
              "        <tr>\n",
              "            <td>10</td>\n",
              "            <td>Big John</td>\n",
              "        </tr>\n",
              "        <tr>\n",
              "            <td>11</td>\n",
              "            <td>Ronald</td>\n",
              "        </tr>\n",
              "        <tr>\n",
              "            <td>12</td>\n",
              "            <td>Recky</td>\n",
              "        </tr>\n",
              "        <tr>\n",
              "            <td>13</td>\n",
              "            <td>Kty</td>\n",
              "        </tr>\n",
              "    </tbody>\n",
              "</table>"
            ]
          },
          "metadata": {},
          "execution_count": 16
        }
      ]
    },
    {
      "cell_type": "code",
      "source": [
        "%%sql\n",
        "CREATE TABLE IF NOT EXISTS student2 (\n",
        "  id int(2) NOT NULL DEFAULT '0',\n",
        "  mark int(3) NOT NULL DEFAULT '0'\n",
        ") ;"
      ],
      "metadata": {
        "colab": {
          "base_uri": "https://localhost:8080/"
        },
        "id": "7qBp1Fz-Oqaw",
        "outputId": "70b87089-dc6c-4c14-a827-fef00ae0112b"
      },
      "execution_count": null,
      "outputs": [
        {
          "output_type": "stream",
          "name": "stdout",
          "text": [
            " * sqlite://\n",
            "Done.\n"
          ]
        },
        {
          "output_type": "execute_result",
          "data": {
            "text/plain": [
              "[]"
            ]
          },
          "metadata": {},
          "execution_count": 14
        }
      ]
    },
    {
      "cell_type": "code",
      "source": [
        "%%sql\n",
        "\n",
        "INSERT INTO student2 (id,mark) VALUES\n",
        "(1,  75),\n",
        "(2,   85),\n",
        "(3,  55),\n",
        "(4,   60),\n",
        "(5,   89),\n",
        "(6,   55),\n",
        "(7,   78),\n",
        "(8, 85),\n",
        "(9,   78),\n",
        "(10,   55),\n",
        "(11,   89),\n",
        "(12,   94),\n",
        "(13,  88);"
      ],
      "metadata": {
        "colab": {
          "base_uri": "https://localhost:8080/"
        },
        "id": "iyVdwjsOOqXS",
        "outputId": "f510a0e4-fda5-4d5d-98c4-4c3883f2ad5a"
      },
      "execution_count": null,
      "outputs": [
        {
          "output_type": "stream",
          "name": "stdout",
          "text": [
            " * sqlite://\n",
            "13 rows affected.\n"
          ]
        },
        {
          "output_type": "execute_result",
          "data": {
            "text/plain": [
              "[]"
            ]
          },
          "metadata": {},
          "execution_count": 17
        }
      ]
    },
    {
      "cell_type": "code",
      "source": [
        "%%sql\n",
        "drop table student1;"
      ],
      "metadata": {
        "colab": {
          "base_uri": "https://localhost:8080/"
        },
        "id": "HEsTuditOqUX",
        "outputId": "d77ed006-3bf2-4a61-e3bd-f668254d215b"
      },
      "execution_count": null,
      "outputs": [
        {
          "output_type": "stream",
          "name": "stdout",
          "text": [
            " * sqlite://\n",
            "Done.\n"
          ]
        },
        {
          "output_type": "execute_result",
          "data": {
            "text/plain": [
              "[]"
            ]
          },
          "metadata": {},
          "execution_count": 10
        }
      ]
    },
    {
      "cell_type": "code",
      "source": [
        "%%sql\n",
        "select * from student2"
      ],
      "metadata": {
        "colab": {
          "base_uri": "https://localhost:8080/",
          "height": 347
        },
        "id": "JwCYIDM2OqRs",
        "outputId": "92efcb02-1f5b-41bb-d069-50a0a6935938"
      },
      "execution_count": null,
      "outputs": [
        {
          "output_type": "stream",
          "name": "stdout",
          "text": [
            " * sqlite://\n",
            "Done.\n"
          ]
        },
        {
          "output_type": "execute_result",
          "data": {
            "text/plain": [
              "[(1, 75),\n",
              " (2, 85),\n",
              " (3, 55),\n",
              " (4, 60),\n",
              " (5, 89),\n",
              " (6, 55),\n",
              " (7, 78),\n",
              " (8, 85),\n",
              " (9, 78),\n",
              " (10, 55),\n",
              " (11, 89),\n",
              " (12, 94),\n",
              " (13, 88)]"
            ],
            "text/html": [
              "<table>\n",
              "    <thead>\n",
              "        <tr>\n",
              "            <th>id</th>\n",
              "            <th>mark</th>\n",
              "        </tr>\n",
              "    </thead>\n",
              "    <tbody>\n",
              "        <tr>\n",
              "            <td>1</td>\n",
              "            <td>75</td>\n",
              "        </tr>\n",
              "        <tr>\n",
              "            <td>2</td>\n",
              "            <td>85</td>\n",
              "        </tr>\n",
              "        <tr>\n",
              "            <td>3</td>\n",
              "            <td>55</td>\n",
              "        </tr>\n",
              "        <tr>\n",
              "            <td>4</td>\n",
              "            <td>60</td>\n",
              "        </tr>\n",
              "        <tr>\n",
              "            <td>5</td>\n",
              "            <td>89</td>\n",
              "        </tr>\n",
              "        <tr>\n",
              "            <td>6</td>\n",
              "            <td>55</td>\n",
              "        </tr>\n",
              "        <tr>\n",
              "            <td>7</td>\n",
              "            <td>78</td>\n",
              "        </tr>\n",
              "        <tr>\n",
              "            <td>8</td>\n",
              "            <td>85</td>\n",
              "        </tr>\n",
              "        <tr>\n",
              "            <td>9</td>\n",
              "            <td>78</td>\n",
              "        </tr>\n",
              "        <tr>\n",
              "            <td>10</td>\n",
              "            <td>55</td>\n",
              "        </tr>\n",
              "        <tr>\n",
              "            <td>11</td>\n",
              "            <td>89</td>\n",
              "        </tr>\n",
              "        <tr>\n",
              "            <td>12</td>\n",
              "            <td>94</td>\n",
              "        </tr>\n",
              "        <tr>\n",
              "            <td>13</td>\n",
              "            <td>88</td>\n",
              "        </tr>\n",
              "    </tbody>\n",
              "</table>"
            ]
          },
          "metadata": {},
          "execution_count": 18
        }
      ]
    },
    {
      "cell_type": "code",
      "source": [
        "%%sql\n",
        "select name,student1.id\n",
        "from student2,student1\n",
        "where student1.id=student2.id and mark = (select max(mark)\n",
        "                                          from student2\n",
        "                                          where mark<(select max(mark)\n",
        "                                                      from student2))"
      ],
      "metadata": {
        "colab": {
          "base_uri": "https://localhost:8080/",
          "height": 116
        },
        "id": "rYCJ8KXiOqPN",
        "outputId": "d86df08a-f164-4964-b42e-adb7d0afc48c"
      },
      "execution_count": null,
      "outputs": [
        {
          "output_type": "stream",
          "name": "stdout",
          "text": [
            " * sqlite://\n",
            "Done.\n"
          ]
        },
        {
          "output_type": "execute_result",
          "data": {
            "text/plain": [
              "[('John Mike', 5), ('Ronald', 11)]"
            ],
            "text/html": [
              "<table>\n",
              "    <thead>\n",
              "        <tr>\n",
              "            <th>name</th>\n",
              "            <th>id</th>\n",
              "        </tr>\n",
              "    </thead>\n",
              "    <tbody>\n",
              "        <tr>\n",
              "            <td>John Mike</td>\n",
              "            <td>5</td>\n",
              "        </tr>\n",
              "        <tr>\n",
              "            <td>Ronald</td>\n",
              "            <td>11</td>\n",
              "        </tr>\n",
              "    </tbody>\n",
              "</table>"
            ]
          },
          "metadata": {},
          "execution_count": 24
        }
      ]
    },
    {
      "cell_type": "code",
      "source": [],
      "metadata": {
        "id": "54T5sp_kOqM2"
      },
      "execution_count": null,
      "outputs": []
    },
    {
      "cell_type": "code",
      "source": [
        "%%sql\n",
        "select avg(mark) from student1;"
      ],
      "metadata": {
        "colab": {
          "base_uri": "https://localhost:8080/",
          "height": 95
        },
        "id": "X80UCq6Z2RMe",
        "outputId": "24274d79-1cbd-4d9f-f4ec-fa1885cb8475"
      },
      "execution_count": null,
      "outputs": [
        {
          "output_type": "stream",
          "name": "stdout",
          "text": [
            " * sqlite://\n",
            "Done.\n"
          ]
        },
        {
          "output_type": "execute_result",
          "data": {
            "text/plain": [
              "[(73.61538461538461,)]"
            ],
            "text/html": [
              "<table>\n",
              "    <thead>\n",
              "        <tr>\n",
              "            <th>avg(mark)</th>\n",
              "        </tr>\n",
              "    </thead>\n",
              "    <tbody>\n",
              "        <tr>\n",
              "            <td>73.61538461538461</td>\n",
              "        </tr>\n",
              "    </tbody>\n",
              "</table>"
            ]
          },
          "metadata": {},
          "execution_count": 72
        }
      ]
    },
    {
      "cell_type": "code",
      "source": [
        "%%sql\n",
        "select min(mark) from student1;"
      ],
      "metadata": {
        "colab": {
          "base_uri": "https://localhost:8080/",
          "height": 95
        },
        "id": "hzsmUBPR2RJ_",
        "outputId": "2ead4254-36a1-4e15-d170-591ef1cffd3c"
      },
      "execution_count": null,
      "outputs": [
        {
          "output_type": "stream",
          "name": "stdout",
          "text": [
            " * sqlite://\n",
            "Done.\n"
          ]
        },
        {
          "output_type": "execute_result",
          "data": {
            "text/plain": [
              "[(55,)]"
            ],
            "text/html": [
              "<table>\n",
              "    <thead>\n",
              "        <tr>\n",
              "            <th>min(mark)</th>\n",
              "        </tr>\n",
              "    </thead>\n",
              "    <tbody>\n",
              "        <tr>\n",
              "            <td>55</td>\n",
              "        </tr>\n",
              "    </tbody>\n",
              "</table>"
            ]
          },
          "metadata": {},
          "execution_count": 73
        }
      ]
    },
    {
      "cell_type": "code",
      "source": [
        "%%sql\n",
        "select max(mark) from student1;"
      ],
      "metadata": {
        "colab": {
          "base_uri": "https://localhost:8080/",
          "height": 95
        },
        "id": "cLRgAigADwoY",
        "outputId": "e84d1c63-bfcc-4225-f5da-947172e1058d"
      },
      "execution_count": null,
      "outputs": [
        {
          "output_type": "stream",
          "name": "stdout",
          "text": [
            " * sqlite://\n",
            "Done.\n"
          ]
        },
        {
          "output_type": "execute_result",
          "data": {
            "text/plain": [
              "[(94,)]"
            ],
            "text/html": [
              "<table>\n",
              "    <thead>\n",
              "        <tr>\n",
              "            <th>max(mark)</th>\n",
              "        </tr>\n",
              "    </thead>\n",
              "    <tbody>\n",
              "        <tr>\n",
              "            <td>94</td>\n",
              "        </tr>\n",
              "    </tbody>\n",
              "</table>"
            ]
          },
          "metadata": {},
          "execution_count": 74
        }
      ]
    },
    {
      "cell_type": "code",
      "source": [
        "%%sql\n",
        "select count(id) from student1;"
      ],
      "metadata": {
        "colab": {
          "base_uri": "https://localhost:8080/",
          "height": 95
        },
        "id": "VEHrmhQSDwl6",
        "outputId": "7184489c-b8aa-4ad6-dd12-4859e93c21e4"
      },
      "execution_count": null,
      "outputs": [
        {
          "output_type": "stream",
          "name": "stdout",
          "text": [
            " * sqlite://\n",
            "Done.\n"
          ]
        },
        {
          "output_type": "execute_result",
          "data": {
            "text/plain": [
              "[(13,)]"
            ],
            "text/html": [
              "<table>\n",
              "    <thead>\n",
              "        <tr>\n",
              "            <th>count(id)</th>\n",
              "        </tr>\n",
              "    </thead>\n",
              "    <tbody>\n",
              "        <tr>\n",
              "            <td>13</td>\n",
              "        </tr>\n",
              "    </tbody>\n",
              "</table>"
            ]
          },
          "metadata": {},
          "execution_count": 75
        }
      ]
    },
    {
      "cell_type": "code",
      "source": [
        "%%sql\n",
        "select class, count(id),avg(mark)\n",
        "from student1\n",
        "group by class\n",
        "order by avg(mark) asc;"
      ],
      "metadata": {
        "colab": {
          "base_uri": "https://localhost:8080/",
          "height": 179
        },
        "id": "ZYefYBJIDwkC",
        "outputId": "0aafbdff-5e10-4446-ac22-f7042a0057af"
      },
      "execution_count": null,
      "outputs": [
        {
          "output_type": "stream",
          "name": "stdout",
          "text": [
            " * sqlite://\n",
            "Done.\n"
          ]
        },
        {
          "output_type": "execute_result",
          "data": {
            "text/plain": [
              "[('Four', 5, 61.0),\n",
              " ('Three', 2, 70.0),\n",
              " ('Five', 2, 81.5),\n",
              " ('Six', 3, 87.0),\n",
              " ('Seven', 1, 88.0)]"
            ],
            "text/html": [
              "<table>\n",
              "    <thead>\n",
              "        <tr>\n",
              "            <th>class</th>\n",
              "            <th>count(id)</th>\n",
              "            <th>avg(mark)</th>\n",
              "        </tr>\n",
              "    </thead>\n",
              "    <tbody>\n",
              "        <tr>\n",
              "            <td>Four</td>\n",
              "            <td>5</td>\n",
              "            <td>61.0</td>\n",
              "        </tr>\n",
              "        <tr>\n",
              "            <td>Three</td>\n",
              "            <td>2</td>\n",
              "            <td>70.0</td>\n",
              "        </tr>\n",
              "        <tr>\n",
              "            <td>Five</td>\n",
              "            <td>2</td>\n",
              "            <td>81.5</td>\n",
              "        </tr>\n",
              "        <tr>\n",
              "            <td>Six</td>\n",
              "            <td>3</td>\n",
              "            <td>87.0</td>\n",
              "        </tr>\n",
              "        <tr>\n",
              "            <td>Seven</td>\n",
              "            <td>1</td>\n",
              "            <td>88.0</td>\n",
              "        </tr>\n",
              "    </tbody>\n",
              "</table>"
            ]
          },
          "metadata": {},
          "execution_count": 84
        }
      ]
    },
    {
      "cell_type": "markdown",
      "source": [
        "/*count number of students in each class having marks grater than 70*/"
      ],
      "metadata": {
        "id": "T2TfpoCONoG2"
      }
    },
    {
      "cell_type": "code",
      "source": [
        "%%sql\n",
        "\n",
        "select class,count(id)\n",
        "from student1\n",
        "where mark>70\n",
        "group by class;"
      ],
      "metadata": {
        "colab": {
          "base_uri": "https://localhost:8080/",
          "height": 179
        },
        "id": "Et6t30zsDwhh",
        "outputId": "fa6243f9-14c5-4bbd-c65f-58921fdd05e0"
      },
      "execution_count": null,
      "outputs": [
        {
          "output_type": "stream",
          "name": "stdout",
          "text": [
            " * sqlite://\n",
            "Done.\n"
          ]
        },
        {
          "output_type": "execute_result",
          "data": {
            "text/plain": [
              "[('Five', 2), ('Four', 1), ('Seven', 1), ('Six', 3), ('Three', 1)]"
            ],
            "text/html": [
              "<table>\n",
              "    <thead>\n",
              "        <tr>\n",
              "            <th>class</th>\n",
              "            <th>count(id)</th>\n",
              "        </tr>\n",
              "    </thead>\n",
              "    <tbody>\n",
              "        <tr>\n",
              "            <td>Five</td>\n",
              "            <td>2</td>\n",
              "        </tr>\n",
              "        <tr>\n",
              "            <td>Four</td>\n",
              "            <td>1</td>\n",
              "        </tr>\n",
              "        <tr>\n",
              "            <td>Seven</td>\n",
              "            <td>1</td>\n",
              "        </tr>\n",
              "        <tr>\n",
              "            <td>Six</td>\n",
              "            <td>3</td>\n",
              "        </tr>\n",
              "        <tr>\n",
              "            <td>Three</td>\n",
              "            <td>1</td>\n",
              "        </tr>\n",
              "    </tbody>\n",
              "</table>"
            ]
          },
          "metadata": {},
          "execution_count": 90
        }
      ]
    },
    {
      "cell_type": "markdown",
      "source": [
        "/*count number of students in those classes having a student marks grater than 70*/"
      ],
      "metadata": {
        "id": "lrce-5EgNeq4"
      }
    },
    {
      "cell_type": "code",
      "source": [
        "%%sql\n",
        "\n",
        "select class,count(id)\n",
        "from student1\n",
        "group by class\n",
        "having max(mark)>80;"
      ],
      "metadata": {
        "colab": {
          "base_uri": "https://localhost:8080/",
          "height": 158
        },
        "id": "P5UUOU27DwfR",
        "outputId": "c72ec83e-b4d8-422f-dcf9-1e724610047a"
      },
      "execution_count": null,
      "outputs": [
        {
          "output_type": "stream",
          "name": "stdout",
          "text": [
            " * sqlite://\n",
            "Done.\n"
          ]
        },
        {
          "output_type": "execute_result",
          "data": {
            "text/plain": [
              "[('Five', 2), ('Seven', 1), ('Six', 3), ('Three', 2)]"
            ],
            "text/html": [
              "<table>\n",
              "    <thead>\n",
              "        <tr>\n",
              "            <th>class</th>\n",
              "            <th>count(id)</th>\n",
              "        </tr>\n",
              "    </thead>\n",
              "    <tbody>\n",
              "        <tr>\n",
              "            <td>Five</td>\n",
              "            <td>2</td>\n",
              "        </tr>\n",
              "        <tr>\n",
              "            <td>Seven</td>\n",
              "            <td>1</td>\n",
              "        </tr>\n",
              "        <tr>\n",
              "            <td>Six</td>\n",
              "            <td>3</td>\n",
              "        </tr>\n",
              "        <tr>\n",
              "            <td>Three</td>\n",
              "            <td>2</td>\n",
              "        </tr>\n",
              "    </tbody>\n",
              "</table>"
            ]
          },
          "metadata": {},
          "execution_count": 93
        }
      ]
    },
    {
      "cell_type": "markdown",
      "source": [
        "GENERAL ORDER"
      ],
      "metadata": {
        "id": "C0zxSWsINYHn"
      }
    },
    {
      "cell_type": "code",
      "source": [
        "%%sql\n",
        "/*General Order*/\n",
        "select\n",
        "from\n",
        "where\n",
        "group by\n",
        "having\n",
        "order by;\n"
      ],
      "metadata": {
        "id": "bSYmNWcnDwc9"
      },
      "execution_count": null,
      "outputs": []
    },
    {
      "cell_type": "markdown",
      "source": [
        "##UPDATE TABLE"
      ],
      "metadata": {
        "id": "90qDp891NTbm"
      }
    },
    {
      "cell_type": "code",
      "source": [
        "%%sql\n",
        "/*update table*/\n",
        "update student1\n",
        "set mark=78\n",
        "where id=1;"
      ],
      "metadata": {
        "colab": {
          "base_uri": "https://localhost:8080/"
        },
        "id": "vZYubnkrDwag",
        "outputId": "c8fedcc9-57dd-4767-ee24-5e96c36e6438"
      },
      "execution_count": null,
      "outputs": [
        {
          "output_type": "stream",
          "name": "stdout",
          "text": [
            " * sqlite://\n",
            "1 rows affected.\n"
          ]
        },
        {
          "output_type": "execute_result",
          "data": {
            "text/plain": [
              "[]"
            ]
          },
          "metadata": {},
          "execution_count": 94
        }
      ]
    },
    {
      "cell_type": "code",
      "source": [
        "%%sql\n",
        "select * from student1"
      ],
      "metadata": {
        "colab": {
          "base_uri": "https://localhost:8080/",
          "height": 347
        },
        "id": "dKGhyZ5DDwYg",
        "outputId": "a573afcb-90ad-4578-b7e5-4c270d14f2cb"
      },
      "execution_count": null,
      "outputs": [
        {
          "output_type": "stream",
          "name": "stdout",
          "text": [
            " * sqlite://\n",
            "Done.\n"
          ]
        },
        {
          "output_type": "execute_result",
          "data": {
            "text/plain": [
              "[(1, 'John Deo', 'Four', 78, 'female'),\n",
              " (2, 'Max Ruin', 'Three', 85, 'male'),\n",
              " (3, 'Arnold', 'Three', 55, 'male'),\n",
              " (4, 'Krish Star', 'Four', 60, 'female'),\n",
              " (5, 'John Mike', 'Four', 60, 'female'),\n",
              " (6, 'Alex John', 'Four', 55, 'male'),\n",
              " (7, 'My John Rob', 'Five', 78, 'male'),\n",
              " (8, 'Asruid', 'Five', 85, 'male'),\n",
              " (9, 'Tes Qry', 'Six', 78, 'male'),\n",
              " (10, 'Big John', 'Four', 55, 'female'),\n",
              " (11, 'Ronald', 'Six', 89, 'female'),\n",
              " (12, 'Recky', 'Six', 94, 'female'),\n",
              " (13, 'Kty', 'Seven', 88, 'female')]"
            ],
            "text/html": [
              "<table>\n",
              "    <thead>\n",
              "        <tr>\n",
              "            <th>id</th>\n",
              "            <th>name</th>\n",
              "            <th>class</th>\n",
              "            <th>mark</th>\n",
              "            <th>gender</th>\n",
              "        </tr>\n",
              "    </thead>\n",
              "    <tbody>\n",
              "        <tr>\n",
              "            <td>1</td>\n",
              "            <td>John Deo</td>\n",
              "            <td>Four</td>\n",
              "            <td>78</td>\n",
              "            <td>female</td>\n",
              "        </tr>\n",
              "        <tr>\n",
              "            <td>2</td>\n",
              "            <td>Max Ruin</td>\n",
              "            <td>Three</td>\n",
              "            <td>85</td>\n",
              "            <td>male</td>\n",
              "        </tr>\n",
              "        <tr>\n",
              "            <td>3</td>\n",
              "            <td>Arnold</td>\n",
              "            <td>Three</td>\n",
              "            <td>55</td>\n",
              "            <td>male</td>\n",
              "        </tr>\n",
              "        <tr>\n",
              "            <td>4</td>\n",
              "            <td>Krish Star</td>\n",
              "            <td>Four</td>\n",
              "            <td>60</td>\n",
              "            <td>female</td>\n",
              "        </tr>\n",
              "        <tr>\n",
              "            <td>5</td>\n",
              "            <td>John Mike</td>\n",
              "            <td>Four</td>\n",
              "            <td>60</td>\n",
              "            <td>female</td>\n",
              "        </tr>\n",
              "        <tr>\n",
              "            <td>6</td>\n",
              "            <td>Alex John</td>\n",
              "            <td>Four</td>\n",
              "            <td>55</td>\n",
              "            <td>male</td>\n",
              "        </tr>\n",
              "        <tr>\n",
              "            <td>7</td>\n",
              "            <td>My John Rob</td>\n",
              "            <td>Five</td>\n",
              "            <td>78</td>\n",
              "            <td>male</td>\n",
              "        </tr>\n",
              "        <tr>\n",
              "            <td>8</td>\n",
              "            <td>Asruid</td>\n",
              "            <td>Five</td>\n",
              "            <td>85</td>\n",
              "            <td>male</td>\n",
              "        </tr>\n",
              "        <tr>\n",
              "            <td>9</td>\n",
              "            <td>Tes Qry</td>\n",
              "            <td>Six</td>\n",
              "            <td>78</td>\n",
              "            <td>male</td>\n",
              "        </tr>\n",
              "        <tr>\n",
              "            <td>10</td>\n",
              "            <td>Big John</td>\n",
              "            <td>Four</td>\n",
              "            <td>55</td>\n",
              "            <td>female</td>\n",
              "        </tr>\n",
              "        <tr>\n",
              "            <td>11</td>\n",
              "            <td>Ronald</td>\n",
              "            <td>Six</td>\n",
              "            <td>89</td>\n",
              "            <td>female</td>\n",
              "        </tr>\n",
              "        <tr>\n",
              "            <td>12</td>\n",
              "            <td>Recky</td>\n",
              "            <td>Six</td>\n",
              "            <td>94</td>\n",
              "            <td>female</td>\n",
              "        </tr>\n",
              "        <tr>\n",
              "            <td>13</td>\n",
              "            <td>Kty</td>\n",
              "            <td>Seven</td>\n",
              "            <td>88</td>\n",
              "            <td>female</td>\n",
              "        </tr>\n",
              "    </tbody>\n",
              "</table>"
            ]
          },
          "metadata": {},
          "execution_count": 95
        }
      ]
    },
    {
      "cell_type": "markdown",
      "source": [
        "##DELETE some existing rows"
      ],
      "metadata": {
        "id": "tEnF_TKfN2V2"
      }
    },
    {
      "cell_type": "code",
      "source": [
        "%%sql\n",
        "delete from student1\n",
        "where mark>90;"
      ],
      "metadata": {
        "colab": {
          "base_uri": "https://localhost:8080/"
        },
        "id": "vSSxsHTlDwVe",
        "outputId": "1e8f19a8-a8ea-4880-b9e4-2429cbef9c3c"
      },
      "execution_count": null,
      "outputs": [
        {
          "output_type": "stream",
          "name": "stdout",
          "text": [
            " * sqlite://\n",
            "1 rows affected.\n"
          ]
        },
        {
          "output_type": "execute_result",
          "data": {
            "text/plain": [
              "[]"
            ]
          },
          "metadata": {},
          "execution_count": 96
        }
      ]
    },
    {
      "cell_type": "code",
      "source": [
        "%%sql\n",
        "select * from student1"
      ],
      "metadata": {
        "colab": {
          "base_uri": "https://localhost:8080/",
          "height": 326
        },
        "id": "Q6V9Y2UwNJw5",
        "outputId": "c90472c7-1274-4a3a-bb1d-ca7583cb6332"
      },
      "execution_count": null,
      "outputs": [
        {
          "output_type": "stream",
          "name": "stdout",
          "text": [
            " * sqlite://\n",
            "Done.\n"
          ]
        },
        {
          "output_type": "execute_result",
          "data": {
            "text/plain": [
              "[(1, 'John Deo', 'Four', 78, 'female'),\n",
              " (2, 'Max Ruin', 'Three', 85, 'male'),\n",
              " (3, 'Arnold', 'Three', 55, 'male'),\n",
              " (4, 'Krish Star', 'Four', 60, 'female'),\n",
              " (5, 'John Mike', 'Four', 60, 'female'),\n",
              " (6, 'Alex John', 'Four', 55, 'male'),\n",
              " (7, 'My John Rob', 'Five', 78, 'male'),\n",
              " (8, 'Asruid', 'Five', 85, 'male'),\n",
              " (9, 'Tes Qry', 'Six', 78, 'male'),\n",
              " (10, 'Big John', 'Four', 55, 'female'),\n",
              " (11, 'Ronald', 'Six', 89, 'female'),\n",
              " (13, 'Kty', 'Seven', 88, 'female')]"
            ],
            "text/html": [
              "<table>\n",
              "    <thead>\n",
              "        <tr>\n",
              "            <th>id</th>\n",
              "            <th>name</th>\n",
              "            <th>class</th>\n",
              "            <th>mark</th>\n",
              "            <th>gender</th>\n",
              "        </tr>\n",
              "    </thead>\n",
              "    <tbody>\n",
              "        <tr>\n",
              "            <td>1</td>\n",
              "            <td>John Deo</td>\n",
              "            <td>Four</td>\n",
              "            <td>78</td>\n",
              "            <td>female</td>\n",
              "        </tr>\n",
              "        <tr>\n",
              "            <td>2</td>\n",
              "            <td>Max Ruin</td>\n",
              "            <td>Three</td>\n",
              "            <td>85</td>\n",
              "            <td>male</td>\n",
              "        </tr>\n",
              "        <tr>\n",
              "            <td>3</td>\n",
              "            <td>Arnold</td>\n",
              "            <td>Three</td>\n",
              "            <td>55</td>\n",
              "            <td>male</td>\n",
              "        </tr>\n",
              "        <tr>\n",
              "            <td>4</td>\n",
              "            <td>Krish Star</td>\n",
              "            <td>Four</td>\n",
              "            <td>60</td>\n",
              "            <td>female</td>\n",
              "        </tr>\n",
              "        <tr>\n",
              "            <td>5</td>\n",
              "            <td>John Mike</td>\n",
              "            <td>Four</td>\n",
              "            <td>60</td>\n",
              "            <td>female</td>\n",
              "        </tr>\n",
              "        <tr>\n",
              "            <td>6</td>\n",
              "            <td>Alex John</td>\n",
              "            <td>Four</td>\n",
              "            <td>55</td>\n",
              "            <td>male</td>\n",
              "        </tr>\n",
              "        <tr>\n",
              "            <td>7</td>\n",
              "            <td>My John Rob</td>\n",
              "            <td>Five</td>\n",
              "            <td>78</td>\n",
              "            <td>male</td>\n",
              "        </tr>\n",
              "        <tr>\n",
              "            <td>8</td>\n",
              "            <td>Asruid</td>\n",
              "            <td>Five</td>\n",
              "            <td>85</td>\n",
              "            <td>male</td>\n",
              "        </tr>\n",
              "        <tr>\n",
              "            <td>9</td>\n",
              "            <td>Tes Qry</td>\n",
              "            <td>Six</td>\n",
              "            <td>78</td>\n",
              "            <td>male</td>\n",
              "        </tr>\n",
              "        <tr>\n",
              "            <td>10</td>\n",
              "            <td>Big John</td>\n",
              "            <td>Four</td>\n",
              "            <td>55</td>\n",
              "            <td>female</td>\n",
              "        </tr>\n",
              "        <tr>\n",
              "            <td>11</td>\n",
              "            <td>Ronald</td>\n",
              "            <td>Six</td>\n",
              "            <td>89</td>\n",
              "            <td>female</td>\n",
              "        </tr>\n",
              "        <tr>\n",
              "            <td>13</td>\n",
              "            <td>Kty</td>\n",
              "            <td>Seven</td>\n",
              "            <td>88</td>\n",
              "            <td>female</td>\n",
              "        </tr>\n",
              "    </tbody>\n",
              "</table>"
            ]
          },
          "metadata": {},
          "execution_count": 97
        }
      ]
    },
    {
      "cell_type": "markdown",
      "source": [
        "##Foreign Key"
      ],
      "metadata": {
        "id": "QTuPFv2laLsS"
      }
    },
    {
      "cell_type": "code",
      "source": [
        "%%sql\n",
        "create table dept(\n",
        "    id int primary key,\n",
        "    name varchar(50)\n",
        ")"
      ],
      "metadata": {
        "colab": {
          "base_uri": "https://localhost:8080/"
        },
        "id": "kV50ovygZf2X",
        "outputId": "fdfc71e4-b1b0-4e2f-dcd8-f031d86e8d58"
      },
      "execution_count": null,
      "outputs": [
        {
          "output_type": "stream",
          "name": "stdout",
          "text": [
            " * sqlite://\n",
            "Done.\n"
          ]
        },
        {
          "output_type": "execute_result",
          "data": {
            "text/plain": [
              "[]"
            ]
          },
          "metadata": {},
          "execution_count": 5
        }
      ]
    },
    {
      "cell_type": "code",
      "source": [
        "%%sql\n",
        "create table teacher(\n",
        "    id int primary key,\n",
        "    name varchar(50),\n",
        "    dept_id int,\n",
        "    foreign key(dept_id) references dept\n",
        ")\n"
      ],
      "metadata": {
        "id": "khBpbnZlNJur",
        "colab": {
          "base_uri": "https://localhost:8080/"
        },
        "outputId": "ec4b9168-78e3-4a96-fda4-452473eafa02"
      },
      "execution_count": null,
      "outputs": [
        {
          "output_type": "stream",
          "name": "stdout",
          "text": [
            " * sqlite://\n",
            "Done.\n"
          ]
        },
        {
          "output_type": "execute_result",
          "data": {
            "text/plain": [
              "[]"
            ]
          },
          "metadata": {},
          "execution_count": 6
        }
      ]
    },
    {
      "cell_type": "code",
      "source": [
        "%%sql\n",
        "insert into dept values(101,\"science\"),(102,\"hindi\"),(103,\"English\");\n",
        "insert into teacher values(1,\"varun\",101),(2,\"rohit\",103),(3,\"kiran\",102),(4,\"nikhil\",101);"
      ],
      "metadata": {
        "id": "mQ_Yhgr1NJsd",
        "colab": {
          "base_uri": "https://localhost:8080/"
        },
        "outputId": "7ffe3358-2862-4534-ac33-532105556306"
      },
      "execution_count": null,
      "outputs": [
        {
          "output_type": "stream",
          "name": "stdout",
          "text": [
            " * sqlite://\n",
            "3 rows affected.\n",
            "4 rows affected.\n"
          ]
        },
        {
          "output_type": "execute_result",
          "data": {
            "text/plain": [
              "[]"
            ]
          },
          "metadata": {},
          "execution_count": 7
        }
      ]
    },
    {
      "cell_type": "code",
      "source": [
        "%%sql\n",
        "select * from dept;\n",
        "select * from teacher;"
      ],
      "metadata": {
        "id": "pjXJ42v2NJqZ",
        "colab": {
          "base_uri": "https://localhost:8080/",
          "height": 175
        },
        "outputId": "7895e13b-4847-4898-b5be-e9c4e5d30abb"
      },
      "execution_count": null,
      "outputs": [
        {
          "output_type": "stream",
          "name": "stdout",
          "text": [
            " * sqlite://\n",
            "Done.\n",
            "Done.\n"
          ]
        },
        {
          "output_type": "execute_result",
          "data": {
            "text/plain": [
              "[(1, 'varun', 101), (2, 'rohit', 103), (3, 'kiran', 102), (4, 'nikhil', 101)]"
            ],
            "text/html": [
              "<table>\n",
              "    <thead>\n",
              "        <tr>\n",
              "            <th>id</th>\n",
              "            <th>name</th>\n",
              "            <th>dept_id</th>\n",
              "        </tr>\n",
              "    </thead>\n",
              "    <tbody>\n",
              "        <tr>\n",
              "            <td>1</td>\n",
              "            <td>varun</td>\n",
              "            <td>101</td>\n",
              "        </tr>\n",
              "        <tr>\n",
              "            <td>2</td>\n",
              "            <td>rohit</td>\n",
              "            <td>103</td>\n",
              "        </tr>\n",
              "        <tr>\n",
              "            <td>3</td>\n",
              "            <td>kiran</td>\n",
              "            <td>102</td>\n",
              "        </tr>\n",
              "        <tr>\n",
              "            <td>4</td>\n",
              "            <td>nikhil</td>\n",
              "            <td>101</td>\n",
              "        </tr>\n",
              "    </tbody>\n",
              "</table>"
            ]
          },
          "metadata": {},
          "execution_count": 8
        }
      ]
    },
    {
      "cell_type": "code",
      "source": [
        "%%sql\n",
        "select t.name from teacher as t,dept as d\n",
        "where d.id=t.dept_id and d.name = \"science\";"
      ],
      "metadata": {
        "id": "LB_nBUk2NJn8",
        "colab": {
          "base_uri": "https://localhost:8080/",
          "height": 116
        },
        "outputId": "1a190f2d-aecb-4de7-a2c7-e91161bb106e"
      },
      "execution_count": null,
      "outputs": [
        {
          "output_type": "stream",
          "name": "stdout",
          "text": [
            " * sqlite://\n",
            "Done.\n"
          ]
        },
        {
          "output_type": "execute_result",
          "data": {
            "text/plain": [
              "[('varun',), ('nikhil',)]"
            ],
            "text/html": [
              "<table>\n",
              "    <thead>\n",
              "        <tr>\n",
              "            <th>name</th>\n",
              "        </tr>\n",
              "    </thead>\n",
              "    <tbody>\n",
              "        <tr>\n",
              "            <td>varun</td>\n",
              "        </tr>\n",
              "        <tr>\n",
              "            <td>nikhil</td>\n",
              "        </tr>\n",
              "    </tbody>\n",
              "</table>"
            ]
          },
          "metadata": {},
          "execution_count": 19
        }
      ]
    },
    {
      "cell_type": "markdown",
      "source": [
        "##Cascading\n"
      ],
      "metadata": {
        "id": "GxgF7XX4fVRj"
      }
    },
    {
      "cell_type": "code",
      "source": [
        "%%sql\n",
        "drop table teacher;"
      ],
      "metadata": {
        "id": "g_WKCUO2NJlX",
        "colab": {
          "base_uri": "https://localhost:8080/"
        },
        "outputId": "1679535b-0baa-4f04-e26d-f19b6159b6e2"
      },
      "execution_count": null,
      "outputs": [
        {
          "output_type": "stream",
          "name": "stdout",
          "text": [
            " * sqlite://\n",
            "Done.\n"
          ]
        },
        {
          "output_type": "execute_result",
          "data": {
            "text/plain": [
              "[]"
            ]
          },
          "metadata": {},
          "execution_count": 40
        }
      ]
    },
    {
      "cell_type": "code",
      "source": [
        "%%sql\n",
        "drop table dept;"
      ],
      "metadata": {
        "id": "S0Vw6JTHNJi_",
        "colab": {
          "base_uri": "https://localhost:8080/"
        },
        "outputId": "2c969013-9c51-43bc-cfa6-a738af2705ae"
      },
      "execution_count": null,
      "outputs": [
        {
          "output_type": "stream",
          "name": "stdout",
          "text": [
            " * sqlite://\n",
            "Done.\n"
          ]
        },
        {
          "output_type": "execute_result",
          "data": {
            "text/plain": [
              "[]"
            ]
          },
          "metadata": {},
          "execution_count": 41
        }
      ]
    },
    {
      "cell_type": "markdown",
      "source": [
        "##Cascade\n"
      ],
      "metadata": {
        "id": "DUinmm_-gQ9z"
      }
    },
    {
      "cell_type": "code",
      "source": [
        "%%sql\n",
        "create table dept(\n",
        "    id int primary key,\n",
        "    name varchar(50)\n",
        "\n",
        ");"
      ],
      "metadata": {
        "colab": {
          "base_uri": "https://localhost:8080/"
        },
        "id": "uCoyXXz3f58Z",
        "outputId": "f24cbec7-1a07-40a1-a0fe-7f2208a678c2"
      },
      "execution_count": null,
      "outputs": [
        {
          "output_type": "stream",
          "name": "stdout",
          "text": [
            " * sqlite://\n",
            "Done.\n"
          ]
        },
        {
          "output_type": "execute_result",
          "data": {
            "text/plain": [
              "[]"
            ]
          },
          "metadata": {},
          "execution_count": 42
        }
      ]
    },
    {
      "cell_type": "code",
      "source": [
        "%%sql\n",
        "create table teacher(\n",
        "    id int primary key,\n",
        "    name varchar(50),\n",
        "    dept_id int,\n",
        "    foreign key(dept_id) references dept\n",
        "    on update cascade\n",
        "    on delete cascade\n",
        ");"
      ],
      "metadata": {
        "colab": {
          "base_uri": "https://localhost:8080/"
        },
        "id": "A38r8x0rf545",
        "outputId": "db4368b7-a240-41ef-a9cb-6fa340957ee3"
      },
      "execution_count": null,
      "outputs": [
        {
          "output_type": "stream",
          "name": "stdout",
          "text": [
            " * sqlite://\n",
            "Done.\n"
          ]
        },
        {
          "output_type": "execute_result",
          "data": {
            "text/plain": [
              "[]"
            ]
          },
          "metadata": {},
          "execution_count": 43
        }
      ]
    },
    {
      "cell_type": "code",
      "source": [],
      "metadata": {
        "colab": {
          "base_uri": "https://localhost:8080/"
        },
        "id": "wXZGrJzof51O",
        "outputId": "aaba9d46-f5a2-4813-b990-653a5e8a02ef"
      },
      "execution_count": null,
      "outputs": [
        {
          "output_type": "stream",
          "name": "stdout",
          "text": [
            " * sqlite://\n",
            "0 rows affected.\n"
          ]
        },
        {
          "output_type": "execute_result",
          "data": {
            "text/plain": [
              "[]"
            ]
          },
          "metadata": {},
          "execution_count": 33
        }
      ]
    },
    {
      "cell_type": "code",
      "source": [
        "%%sql\n",
        "insert into dept values(101,\"science\"),(102,\"hindi\"),(103,\"English\");\n",
        "insert into teacher values(1,\"varun\",101),(2,\"rohit\",103),(3,\"kiran\",102),(4,\"nikhil\",101);"
      ],
      "metadata": {
        "colab": {
          "base_uri": "https://localhost:8080/"
        },
        "id": "GA-zSi69h91x",
        "outputId": "fe369f07-f4f3-46c0-8d38-0cdee4cfa8e6"
      },
      "execution_count": null,
      "outputs": [
        {
          "output_type": "stream",
          "name": "stdout",
          "text": [
            " * sqlite://\n",
            "3 rows affected.\n",
            "4 rows affected.\n"
          ]
        },
        {
          "output_type": "execute_result",
          "data": {
            "text/plain": [
              "[]"
            ]
          },
          "metadata": {},
          "execution_count": 44
        }
      ]
    },
    {
      "cell_type": "code",
      "source": [
        "%%sql\n",
        "update dept\n",
        "set id=111\n",
        "where id=101;"
      ],
      "metadata": {
        "colab": {
          "base_uri": "https://localhost:8080/"
        },
        "id": "wQYAx5xeiApR",
        "outputId": "31ccae37-992b-47dc-87a8-766a4aecb35f"
      },
      "execution_count": null,
      "outputs": [
        {
          "output_type": "stream",
          "name": "stdout",
          "text": [
            " * sqlite://\n",
            "0 rows affected.\n"
          ]
        },
        {
          "output_type": "execute_result",
          "data": {
            "text/plain": [
              "[]"
            ]
          },
          "metadata": {},
          "execution_count": 48
        }
      ]
    },
    {
      "cell_type": "code",
      "source": [
        "%%sql\n",
        "select * from dept"
      ],
      "metadata": {
        "colab": {
          "base_uri": "https://localhost:8080/",
          "height": 137
        },
        "id": "u5udDt7lf5xu",
        "outputId": "3d2afdf9-806e-4423-e913-0f2526e5aa4c"
      },
      "execution_count": null,
      "outputs": [
        {
          "output_type": "stream",
          "name": "stdout",
          "text": [
            " * sqlite://\n",
            "Done.\n"
          ]
        },
        {
          "output_type": "execute_result",
          "data": {
            "text/plain": [
              "[(111, 'science'), (102, 'hindi'), (103, 'English')]"
            ],
            "text/html": [
              "<table>\n",
              "    <thead>\n",
              "        <tr>\n",
              "            <th>id</th>\n",
              "            <th>name</th>\n",
              "        </tr>\n",
              "    </thead>\n",
              "    <tbody>\n",
              "        <tr>\n",
              "            <td>111</td>\n",
              "            <td>science</td>\n",
              "        </tr>\n",
              "        <tr>\n",
              "            <td>102</td>\n",
              "            <td>hindi</td>\n",
              "        </tr>\n",
              "        <tr>\n",
              "            <td>103</td>\n",
              "            <td>English</td>\n",
              "        </tr>\n",
              "    </tbody>\n",
              "</table>"
            ]
          },
          "metadata": {},
          "execution_count": 49
        }
      ]
    },
    {
      "cell_type": "code",
      "source": [
        "%%sql\n",
        "select * from teacher"
      ],
      "metadata": {
        "colab": {
          "base_uri": "https://localhost:8080/",
          "height": 158
        },
        "id": "Q_FeV6ZXf5vX",
        "outputId": "6d81f7a7-69bd-4965-ebfa-e1268b801692"
      },
      "execution_count": null,
      "outputs": [
        {
          "output_type": "stream",
          "name": "stdout",
          "text": [
            " * sqlite://\n",
            "Done.\n"
          ]
        },
        {
          "output_type": "execute_result",
          "data": {
            "text/plain": [
              "[(1, 'varun', 101), (2, 'rohit', 103), (3, 'kiran', 102), (4, 'nikhil', 101)]"
            ],
            "text/html": [
              "<table>\n",
              "    <thead>\n",
              "        <tr>\n",
              "            <th>id</th>\n",
              "            <th>name</th>\n",
              "            <th>dept_id</th>\n",
              "        </tr>\n",
              "    </thead>\n",
              "    <tbody>\n",
              "        <tr>\n",
              "            <td>1</td>\n",
              "            <td>varun</td>\n",
              "            <td>101</td>\n",
              "        </tr>\n",
              "        <tr>\n",
              "            <td>2</td>\n",
              "            <td>rohit</td>\n",
              "            <td>103</td>\n",
              "        </tr>\n",
              "        <tr>\n",
              "            <td>3</td>\n",
              "            <td>kiran</td>\n",
              "            <td>102</td>\n",
              "        </tr>\n",
              "        <tr>\n",
              "            <td>4</td>\n",
              "            <td>nikhil</td>\n",
              "            <td>101</td>\n",
              "        </tr>\n",
              "    </tbody>\n",
              "</table>"
            ]
          },
          "metadata": {},
          "execution_count": 50
        }
      ]
    },
    {
      "cell_type": "markdown",
      "source": [
        "##Table related queries\n"
      ],
      "metadata": {
        "id": "C7MFTWF-ln4d"
      }
    },
    {
      "cell_type": "code",
      "source": [
        "%%sql\n",
        "CREATE TABLE IF NOT EXISTS student (\n",
        "  id int(2) NOT NULL DEFAULT '0',\n",
        "  name varchar(50) NOT NULL DEFAULT '',\n",
        "  class varchar(10) NOT NULL DEFAULT '',\n",
        "  mark int(3) NOT NULL DEFAULT '0',\n",
        "  gender varchar(6)  NOT NULL DEFAULT 'male'\n",
        ") ;"
      ],
      "metadata": {
        "colab": {
          "base_uri": "https://localhost:8080/"
        },
        "id": "d2d04ctMlSF8",
        "outputId": "71fcf02f-b027-4bcf-dcff-6d97ac150cee"
      },
      "execution_count": null,
      "outputs": [
        {
          "output_type": "stream",
          "name": "stdout",
          "text": [
            " * sqlite://\n",
            "Done.\n"
          ]
        },
        {
          "output_type": "execute_result",
          "data": {
            "text/plain": [
              "[]"
            ]
          },
          "metadata": {},
          "execution_count": 51
        }
      ]
    },
    {
      "cell_type": "code",
      "source": [
        "%%sql\n",
        "INSERT INTO student(id, name, class, mark, gender) VALUES\n",
        "(1, \"John Deo\", \"Four\", 75, \"female\"),\n",
        "(2, \"Max Ruin\", \"Three\", 85, \"male\"),\n",
        "(3, \"Arnold\", \"Three\", 55, \"male\"),\n",
        "(4, \"Krish Star\", \"Four\", 60, \"female\"),\n",
        "(5, \"John Mike\", \"Four\", 60, \"female\"),\n",
        "(6, \"Alex John\", \"Four\", 55,\"male\"),\n",
        "(7, \"My John Rob\", \"Five\", 78, \"male\"),\n",
        "(8, \"Asruid\", \"Five\", 85, \"male\"),\n",
        "(9, \"Tes Qry\", \"Six\", 78, \"male\"),\n",
        "(10, \"Big John\", \"Four\", 55, \"female\"),\n",
        "(11, \"Ronald\", \"Six\", 89, \"female\"),\n",
        "(12, \"Recky\", \"Six\", 94, \"female\"),\n",
        "(13, \"Kty\", \"Seven\", 88, \"female\");\n"
      ],
      "metadata": {
        "colab": {
          "base_uri": "https://localhost:8080/"
        },
        "id": "-Ac1YOmnlR-R",
        "outputId": "1f976cd6-c17a-49b2-e6e9-b573ba403e4f"
      },
      "execution_count": null,
      "outputs": [
        {
          "output_type": "stream",
          "name": "stdout",
          "text": [
            " * sqlite://\n",
            "13 rows affected.\n"
          ]
        },
        {
          "output_type": "execute_result",
          "data": {
            "text/plain": [
              "[]"
            ]
          },
          "metadata": {},
          "execution_count": 53
        }
      ]
    },
    {
      "cell_type": "code",
      "source": [
        "%%sql\n",
        "select * from student"
      ],
      "metadata": {
        "colab": {
          "base_uri": "https://localhost:8080/",
          "height": 347
        },
        "id": "t_wkzustlR6r",
        "outputId": "f5d24f8b-5140-4d2e-df06-94473aefbc5a"
      },
      "execution_count": null,
      "outputs": [
        {
          "output_type": "stream",
          "name": "stdout",
          "text": [
            " * sqlite://\n",
            "Done.\n"
          ]
        },
        {
          "output_type": "execute_result",
          "data": {
            "text/plain": [
              "[(1, 'John Deo', 'Four', 75, 'female'),\n",
              " (2, 'Max Ruin', 'Three', 85, 'male'),\n",
              " (3, 'Arnold', 'Three', 55, 'male'),\n",
              " (4, 'Krish Star', 'Four', 60, 'female'),\n",
              " (5, 'John Mike', 'Four', 60, 'female'),\n",
              " (6, 'Alex John', 'Four', 55, 'male'),\n",
              " (7, 'My John Rob', 'Five', 78, 'male'),\n",
              " (8, 'Asruid', 'Five', 85, 'male'),\n",
              " (9, 'Tes Qry', 'Six', 78, 'male'),\n",
              " (10, 'Big John', 'Four', 55, 'female'),\n",
              " (11, 'Ronald', 'Six', 89, 'female'),\n",
              " (12, 'Recky', 'Six', 94, 'female'),\n",
              " (13, 'Kty', 'Seven', 88, 'female')]"
            ],
            "text/html": [
              "<table>\n",
              "    <thead>\n",
              "        <tr>\n",
              "            <th>id</th>\n",
              "            <th>name</th>\n",
              "            <th>class</th>\n",
              "            <th>mark</th>\n",
              "            <th>gender</th>\n",
              "        </tr>\n",
              "    </thead>\n",
              "    <tbody>\n",
              "        <tr>\n",
              "            <td>1</td>\n",
              "            <td>John Deo</td>\n",
              "            <td>Four</td>\n",
              "            <td>75</td>\n",
              "            <td>female</td>\n",
              "        </tr>\n",
              "        <tr>\n",
              "            <td>2</td>\n",
              "            <td>Max Ruin</td>\n",
              "            <td>Three</td>\n",
              "            <td>85</td>\n",
              "            <td>male</td>\n",
              "        </tr>\n",
              "        <tr>\n",
              "            <td>3</td>\n",
              "            <td>Arnold</td>\n",
              "            <td>Three</td>\n",
              "            <td>55</td>\n",
              "            <td>male</td>\n",
              "        </tr>\n",
              "        <tr>\n",
              "            <td>4</td>\n",
              "            <td>Krish Star</td>\n",
              "            <td>Four</td>\n",
              "            <td>60</td>\n",
              "            <td>female</td>\n",
              "        </tr>\n",
              "        <tr>\n",
              "            <td>5</td>\n",
              "            <td>John Mike</td>\n",
              "            <td>Four</td>\n",
              "            <td>60</td>\n",
              "            <td>female</td>\n",
              "        </tr>\n",
              "        <tr>\n",
              "            <td>6</td>\n",
              "            <td>Alex John</td>\n",
              "            <td>Four</td>\n",
              "            <td>55</td>\n",
              "            <td>male</td>\n",
              "        </tr>\n",
              "        <tr>\n",
              "            <td>7</td>\n",
              "            <td>My John Rob</td>\n",
              "            <td>Five</td>\n",
              "            <td>78</td>\n",
              "            <td>male</td>\n",
              "        </tr>\n",
              "        <tr>\n",
              "            <td>8</td>\n",
              "            <td>Asruid</td>\n",
              "            <td>Five</td>\n",
              "            <td>85</td>\n",
              "            <td>male</td>\n",
              "        </tr>\n",
              "        <tr>\n",
              "            <td>9</td>\n",
              "            <td>Tes Qry</td>\n",
              "            <td>Six</td>\n",
              "            <td>78</td>\n",
              "            <td>male</td>\n",
              "        </tr>\n",
              "        <tr>\n",
              "            <td>10</td>\n",
              "            <td>Big John</td>\n",
              "            <td>Four</td>\n",
              "            <td>55</td>\n",
              "            <td>female</td>\n",
              "        </tr>\n",
              "        <tr>\n",
              "            <td>11</td>\n",
              "            <td>Ronald</td>\n",
              "            <td>Six</td>\n",
              "            <td>89</td>\n",
              "            <td>female</td>\n",
              "        </tr>\n",
              "        <tr>\n",
              "            <td>12</td>\n",
              "            <td>Recky</td>\n",
              "            <td>Six</td>\n",
              "            <td>94</td>\n",
              "            <td>female</td>\n",
              "        </tr>\n",
              "        <tr>\n",
              "            <td>13</td>\n",
              "            <td>Kty</td>\n",
              "            <td>Seven</td>\n",
              "            <td>88</td>\n",
              "            <td>female</td>\n",
              "        </tr>\n",
              "    </tbody>\n",
              "</table>"
            ]
          },
          "metadata": {},
          "execution_count": 54
        }
      ]
    },
    {
      "cell_type": "code",
      "source": [
        "%%sql\n",
        "alter table student\n",
        "add column age"
      ],
      "metadata": {
        "colab": {
          "base_uri": "https://localhost:8080/"
        },
        "id": "nYbqiBz9lznX",
        "outputId": "2c93a2a6-da1f-4468-cb58-ccfd3c6b358f"
      },
      "execution_count": null,
      "outputs": [
        {
          "output_type": "stream",
          "name": "stdout",
          "text": [
            " * sqlite://\n",
            "Done.\n"
          ]
        },
        {
          "output_type": "execute_result",
          "data": {
            "text/plain": [
              "[]"
            ]
          },
          "metadata": {},
          "execution_count": 55
        }
      ]
    },
    {
      "cell_type": "code",
      "source": [
        "%%sql\n",
        "select * from student"
      ],
      "metadata": {
        "colab": {
          "base_uri": "https://localhost:8080/",
          "height": 347
        },
        "id": "JavSSMDVlzk6",
        "outputId": "bf0630e2-e4b8-478e-bb79-e31ea6c0b3d7"
      },
      "execution_count": null,
      "outputs": [
        {
          "output_type": "stream",
          "name": "stdout",
          "text": [
            " * sqlite://\n",
            "Done.\n"
          ]
        },
        {
          "output_type": "execute_result",
          "data": {
            "text/plain": [
              "[(1, 'John Deo', 'Four', 75, 'female', None),\n",
              " (2, 'Max Ruin', 'Three', 85, 'male', None),\n",
              " (3, 'Arnold', 'Three', 55, 'male', None),\n",
              " (4, 'Krish Star', 'Four', 60, 'female', None),\n",
              " (5, 'John Mike', 'Four', 60, 'female', None),\n",
              " (6, 'Alex John', 'Four', 55, 'male', None),\n",
              " (7, 'My John Rob', 'Five', 78, 'male', None),\n",
              " (8, 'Asruid', 'Five', 85, 'male', None),\n",
              " (9, 'Tes Qry', 'Six', 78, 'male', None),\n",
              " (10, 'Big John', 'Four', 55, 'female', None),\n",
              " (11, 'Ronald', 'Six', 89, 'female', None),\n",
              " (12, 'Recky', 'Six', 94, 'female', None),\n",
              " (13, 'Kty', 'Seven', 88, 'female', None)]"
            ],
            "text/html": [
              "<table>\n",
              "    <thead>\n",
              "        <tr>\n",
              "            <th>id</th>\n",
              "            <th>name</th>\n",
              "            <th>class</th>\n",
              "            <th>mark</th>\n",
              "            <th>gender</th>\n",
              "            <th>age</th>\n",
              "        </tr>\n",
              "    </thead>\n",
              "    <tbody>\n",
              "        <tr>\n",
              "            <td>1</td>\n",
              "            <td>John Deo</td>\n",
              "            <td>Four</td>\n",
              "            <td>75</td>\n",
              "            <td>female</td>\n",
              "            <td>None</td>\n",
              "        </tr>\n",
              "        <tr>\n",
              "            <td>2</td>\n",
              "            <td>Max Ruin</td>\n",
              "            <td>Three</td>\n",
              "            <td>85</td>\n",
              "            <td>male</td>\n",
              "            <td>None</td>\n",
              "        </tr>\n",
              "        <tr>\n",
              "            <td>3</td>\n",
              "            <td>Arnold</td>\n",
              "            <td>Three</td>\n",
              "            <td>55</td>\n",
              "            <td>male</td>\n",
              "            <td>None</td>\n",
              "        </tr>\n",
              "        <tr>\n",
              "            <td>4</td>\n",
              "            <td>Krish Star</td>\n",
              "            <td>Four</td>\n",
              "            <td>60</td>\n",
              "            <td>female</td>\n",
              "            <td>None</td>\n",
              "        </tr>\n",
              "        <tr>\n",
              "            <td>5</td>\n",
              "            <td>John Mike</td>\n",
              "            <td>Four</td>\n",
              "            <td>60</td>\n",
              "            <td>female</td>\n",
              "            <td>None</td>\n",
              "        </tr>\n",
              "        <tr>\n",
              "            <td>6</td>\n",
              "            <td>Alex John</td>\n",
              "            <td>Four</td>\n",
              "            <td>55</td>\n",
              "            <td>male</td>\n",
              "            <td>None</td>\n",
              "        </tr>\n",
              "        <tr>\n",
              "            <td>7</td>\n",
              "            <td>My John Rob</td>\n",
              "            <td>Five</td>\n",
              "            <td>78</td>\n",
              "            <td>male</td>\n",
              "            <td>None</td>\n",
              "        </tr>\n",
              "        <tr>\n",
              "            <td>8</td>\n",
              "            <td>Asruid</td>\n",
              "            <td>Five</td>\n",
              "            <td>85</td>\n",
              "            <td>male</td>\n",
              "            <td>None</td>\n",
              "        </tr>\n",
              "        <tr>\n",
              "            <td>9</td>\n",
              "            <td>Tes Qry</td>\n",
              "            <td>Six</td>\n",
              "            <td>78</td>\n",
              "            <td>male</td>\n",
              "            <td>None</td>\n",
              "        </tr>\n",
              "        <tr>\n",
              "            <td>10</td>\n",
              "            <td>Big John</td>\n",
              "            <td>Four</td>\n",
              "            <td>55</td>\n",
              "            <td>female</td>\n",
              "            <td>None</td>\n",
              "        </tr>\n",
              "        <tr>\n",
              "            <td>11</td>\n",
              "            <td>Ronald</td>\n",
              "            <td>Six</td>\n",
              "            <td>89</td>\n",
              "            <td>female</td>\n",
              "            <td>None</td>\n",
              "        </tr>\n",
              "        <tr>\n",
              "            <td>12</td>\n",
              "            <td>Recky</td>\n",
              "            <td>Six</td>\n",
              "            <td>94</td>\n",
              "            <td>female</td>\n",
              "            <td>None</td>\n",
              "        </tr>\n",
              "        <tr>\n",
              "            <td>13</td>\n",
              "            <td>Kty</td>\n",
              "            <td>Seven</td>\n",
              "            <td>88</td>\n",
              "            <td>female</td>\n",
              "            <td>None</td>\n",
              "        </tr>\n",
              "    </tbody>\n",
              "</table>"
            ]
          },
          "metadata": {},
          "execution_count": 56
        }
      ]
    },
    {
      "cell_type": "code",
      "source": [
        "%%sql\n",
        "alter table student\n",
        "drop column age"
      ],
      "metadata": {
        "colab": {
          "base_uri": "https://localhost:8080/"
        },
        "id": "oTExUXc9lziZ",
        "outputId": "e759d7a7-0053-4347-d130-bb8065e20977"
      },
      "execution_count": null,
      "outputs": [
        {
          "output_type": "stream",
          "name": "stdout",
          "text": [
            " * sqlite://\n",
            "Done.\n"
          ]
        },
        {
          "output_type": "execute_result",
          "data": {
            "text/plain": [
              "[]"
            ]
          },
          "metadata": {},
          "execution_count": 58
        }
      ]
    },
    {
      "cell_type": "code",
      "source": [
        "%%sql\n",
        "select * from student"
      ],
      "metadata": {
        "colab": {
          "base_uri": "https://localhost:8080/",
          "height": 347
        },
        "id": "msq0gnh7lzgG",
        "outputId": "5d890263-86fc-471a-8f8f-6607377881f9"
      },
      "execution_count": null,
      "outputs": [
        {
          "output_type": "stream",
          "name": "stdout",
          "text": [
            " * sqlite://\n",
            "Done.\n"
          ]
        },
        {
          "output_type": "execute_result",
          "data": {
            "text/plain": [
              "[(1, 'John Deo', 'Four', 75, 'female'),\n",
              " (2, 'Max Ruin', 'Three', 85, 'male'),\n",
              " (3, 'Arnold', 'Three', 55, 'male'),\n",
              " (4, 'Krish Star', 'Four', 60, 'female'),\n",
              " (5, 'John Mike', 'Four', 60, 'female'),\n",
              " (6, 'Alex John', 'Four', 55, 'male'),\n",
              " (7, 'My John Rob', 'Five', 78, 'male'),\n",
              " (8, 'Asruid', 'Five', 85, 'male'),\n",
              " (9, 'Tes Qry', 'Six', 78, 'male'),\n",
              " (10, 'Big John', 'Four', 55, 'female'),\n",
              " (11, 'Ronald', 'Six', 89, 'female'),\n",
              " (12, 'Recky', 'Six', 94, 'female'),\n",
              " (13, 'Kty', 'Seven', 88, 'female')]"
            ],
            "text/html": [
              "<table>\n",
              "    <thead>\n",
              "        <tr>\n",
              "            <th>id</th>\n",
              "            <th>name</th>\n",
              "            <th>class</th>\n",
              "            <th>mark</th>\n",
              "            <th>gender</th>\n",
              "        </tr>\n",
              "    </thead>\n",
              "    <tbody>\n",
              "        <tr>\n",
              "            <td>1</td>\n",
              "            <td>John Deo</td>\n",
              "            <td>Four</td>\n",
              "            <td>75</td>\n",
              "            <td>female</td>\n",
              "        </tr>\n",
              "        <tr>\n",
              "            <td>2</td>\n",
              "            <td>Max Ruin</td>\n",
              "            <td>Three</td>\n",
              "            <td>85</td>\n",
              "            <td>male</td>\n",
              "        </tr>\n",
              "        <tr>\n",
              "            <td>3</td>\n",
              "            <td>Arnold</td>\n",
              "            <td>Three</td>\n",
              "            <td>55</td>\n",
              "            <td>male</td>\n",
              "        </tr>\n",
              "        <tr>\n",
              "            <td>4</td>\n",
              "            <td>Krish Star</td>\n",
              "            <td>Four</td>\n",
              "            <td>60</td>\n",
              "            <td>female</td>\n",
              "        </tr>\n",
              "        <tr>\n",
              "            <td>5</td>\n",
              "            <td>John Mike</td>\n",
              "            <td>Four</td>\n",
              "            <td>60</td>\n",
              "            <td>female</td>\n",
              "        </tr>\n",
              "        <tr>\n",
              "            <td>6</td>\n",
              "            <td>Alex John</td>\n",
              "            <td>Four</td>\n",
              "            <td>55</td>\n",
              "            <td>male</td>\n",
              "        </tr>\n",
              "        <tr>\n",
              "            <td>7</td>\n",
              "            <td>My John Rob</td>\n",
              "            <td>Five</td>\n",
              "            <td>78</td>\n",
              "            <td>male</td>\n",
              "        </tr>\n",
              "        <tr>\n",
              "            <td>8</td>\n",
              "            <td>Asruid</td>\n",
              "            <td>Five</td>\n",
              "            <td>85</td>\n",
              "            <td>male</td>\n",
              "        </tr>\n",
              "        <tr>\n",
              "            <td>9</td>\n",
              "            <td>Tes Qry</td>\n",
              "            <td>Six</td>\n",
              "            <td>78</td>\n",
              "            <td>male</td>\n",
              "        </tr>\n",
              "        <tr>\n",
              "            <td>10</td>\n",
              "            <td>Big John</td>\n",
              "            <td>Four</td>\n",
              "            <td>55</td>\n",
              "            <td>female</td>\n",
              "        </tr>\n",
              "        <tr>\n",
              "            <td>11</td>\n",
              "            <td>Ronald</td>\n",
              "            <td>Six</td>\n",
              "            <td>89</td>\n",
              "            <td>female</td>\n",
              "        </tr>\n",
              "        <tr>\n",
              "            <td>12</td>\n",
              "            <td>Recky</td>\n",
              "            <td>Six</td>\n",
              "            <td>94</td>\n",
              "            <td>female</td>\n",
              "        </tr>\n",
              "        <tr>\n",
              "            <td>13</td>\n",
              "            <td>Kty</td>\n",
              "            <td>Seven</td>\n",
              "            <td>88</td>\n",
              "            <td>female</td>\n",
              "        </tr>\n",
              "    </tbody>\n",
              "</table>"
            ]
          },
          "metadata": {},
          "execution_count": 59
        }
      ]
    },
    {
      "cell_type": "code",
      "source": [
        "%%sql\n",
        "alter table student\n",
        "rename to stud"
      ],
      "metadata": {
        "colab": {
          "base_uri": "https://localhost:8080/"
        },
        "id": "tFUrr8QWlzdJ",
        "outputId": "e74d6df1-6086-4faf-f694-25e9576a16d8"
      },
      "execution_count": null,
      "outputs": [
        {
          "output_type": "stream",
          "name": "stdout",
          "text": [
            " * sqlite://\n",
            "Done.\n"
          ]
        },
        {
          "output_type": "execute_result",
          "data": {
            "text/plain": [
              "[]"
            ]
          },
          "metadata": {},
          "execution_count": 60
        }
      ]
    },
    {
      "cell_type": "code",
      "source": [
        "%%sql\n",
        "select * from stud"
      ],
      "metadata": {
        "colab": {
          "base_uri": "https://localhost:8080/",
          "height": 347
        },
        "id": "6yri4e3TlR3d",
        "outputId": "5e31e098-8c66-4a82-92dd-59156bd52cee"
      },
      "execution_count": null,
      "outputs": [
        {
          "output_type": "stream",
          "name": "stdout",
          "text": [
            " * sqlite://\n",
            "Done.\n"
          ]
        },
        {
          "output_type": "execute_result",
          "data": {
            "text/plain": [
              "[(1, 'John Deo', 'Four', 75, 'female'),\n",
              " (2, 'Max Ruin', 'Three', 85, 'male'),\n",
              " (3, 'Arnold', 'Three', 55, 'male'),\n",
              " (4, 'Krish Star', 'Four', 60, 'female'),\n",
              " (5, 'John Mike', 'Four', 60, 'female'),\n",
              " (6, 'Alex John', 'Four', 55, 'male'),\n",
              " (7, 'My John Rob', 'Five', 78, 'male'),\n",
              " (8, 'Asruid', 'Five', 85, 'male'),\n",
              " (9, 'Tes Qry', 'Six', 78, 'male'),\n",
              " (10, 'Big John', 'Four', 55, 'female'),\n",
              " (11, 'Ronald', 'Six', 89, 'female'),\n",
              " (12, 'Recky', 'Six', 94, 'female'),\n",
              " (13, 'Kty', 'Seven', 88, 'female')]"
            ],
            "text/html": [
              "<table>\n",
              "    <thead>\n",
              "        <tr>\n",
              "            <th>id</th>\n",
              "            <th>name</th>\n",
              "            <th>class</th>\n",
              "            <th>mark</th>\n",
              "            <th>gender</th>\n",
              "        </tr>\n",
              "    </thead>\n",
              "    <tbody>\n",
              "        <tr>\n",
              "            <td>1</td>\n",
              "            <td>John Deo</td>\n",
              "            <td>Four</td>\n",
              "            <td>75</td>\n",
              "            <td>female</td>\n",
              "        </tr>\n",
              "        <tr>\n",
              "            <td>2</td>\n",
              "            <td>Max Ruin</td>\n",
              "            <td>Three</td>\n",
              "            <td>85</td>\n",
              "            <td>male</td>\n",
              "        </tr>\n",
              "        <tr>\n",
              "            <td>3</td>\n",
              "            <td>Arnold</td>\n",
              "            <td>Three</td>\n",
              "            <td>55</td>\n",
              "            <td>male</td>\n",
              "        </tr>\n",
              "        <tr>\n",
              "            <td>4</td>\n",
              "            <td>Krish Star</td>\n",
              "            <td>Four</td>\n",
              "            <td>60</td>\n",
              "            <td>female</td>\n",
              "        </tr>\n",
              "        <tr>\n",
              "            <td>5</td>\n",
              "            <td>John Mike</td>\n",
              "            <td>Four</td>\n",
              "            <td>60</td>\n",
              "            <td>female</td>\n",
              "        </tr>\n",
              "        <tr>\n",
              "            <td>6</td>\n",
              "            <td>Alex John</td>\n",
              "            <td>Four</td>\n",
              "            <td>55</td>\n",
              "            <td>male</td>\n",
              "        </tr>\n",
              "        <tr>\n",
              "            <td>7</td>\n",
              "            <td>My John Rob</td>\n",
              "            <td>Five</td>\n",
              "            <td>78</td>\n",
              "            <td>male</td>\n",
              "        </tr>\n",
              "        <tr>\n",
              "            <td>8</td>\n",
              "            <td>Asruid</td>\n",
              "            <td>Five</td>\n",
              "            <td>85</td>\n",
              "            <td>male</td>\n",
              "        </tr>\n",
              "        <tr>\n",
              "            <td>9</td>\n",
              "            <td>Tes Qry</td>\n",
              "            <td>Six</td>\n",
              "            <td>78</td>\n",
              "            <td>male</td>\n",
              "        </tr>\n",
              "        <tr>\n",
              "            <td>10</td>\n",
              "            <td>Big John</td>\n",
              "            <td>Four</td>\n",
              "            <td>55</td>\n",
              "            <td>female</td>\n",
              "        </tr>\n",
              "        <tr>\n",
              "            <td>11</td>\n",
              "            <td>Ronald</td>\n",
              "            <td>Six</td>\n",
              "            <td>89</td>\n",
              "            <td>female</td>\n",
              "        </tr>\n",
              "        <tr>\n",
              "            <td>12</td>\n",
              "            <td>Recky</td>\n",
              "            <td>Six</td>\n",
              "            <td>94</td>\n",
              "            <td>female</td>\n",
              "        </tr>\n",
              "        <tr>\n",
              "            <td>13</td>\n",
              "            <td>Kty</td>\n",
              "            <td>Seven</td>\n",
              "            <td>88</td>\n",
              "            <td>female</td>\n",
              "        </tr>\n",
              "    </tbody>\n",
              "</table>"
            ]
          },
          "metadata": {},
          "execution_count": 62
        }
      ]
    },
    {
      "cell_type": "code",
      "source": [
        "%%sql\n",
        "alter table stud\n",
        "change mark marks int;"
      ],
      "metadata": {
        "colab": {
          "base_uri": "https://localhost:8080/"
        },
        "id": "RoEC2yJVlR0v",
        "outputId": "8e733453-6725-46a2-ec49-5fbaeaf091b3"
      },
      "execution_count": null,
      "outputs": [
        {
          "output_type": "stream",
          "name": "stdout",
          "text": [
            " * sqlite://\n",
            "(sqlite3.OperationalError) near \"change\": syntax error\n",
            "[SQL: alter table stud\n",
            "change mark marks int;]\n",
            "(Background on this error at: https://sqlalche.me/e/20/e3q8)\n"
          ]
        }
      ]
    },
    {
      "cell_type": "code",
      "source": [
        "%%sql\n",
        "truncate table stud;"
      ],
      "metadata": {
        "colab": {
          "base_uri": "https://localhost:8080/"
        },
        "id": "2rACE9Q9nvBA",
        "outputId": "005d949e-1ba5-4847-a1b1-3f00a0d56467"
      },
      "execution_count": null,
      "outputs": [
        {
          "output_type": "stream",
          "name": "stdout",
          "text": [
            " * sqlite://\n",
            "(sqlite3.OperationalError) near \"truncate\": syntax error\n",
            "[SQL: truncate table stud;]\n",
            "(Background on this error at: https://sqlalche.me/e/20/e3q8)\n"
          ]
        }
      ]
    },
    {
      "cell_type": "code",
      "source": [
        "%%sql\n",
        "select * from student1\n"
      ],
      "metadata": {
        "id": "5wLhbKjVnu-3",
        "colab": {
          "base_uri": "https://localhost:8080/",
          "height": 347
        },
        "outputId": "dc0ce4ba-dbb8-45ec-c5db-65a93341a5aa"
      },
      "execution_count": null,
      "outputs": [
        {
          "output_type": "stream",
          "name": "stdout",
          "text": [
            " * sqlite://\n",
            "Done.\n"
          ]
        },
        {
          "output_type": "execute_result",
          "data": {
            "text/plain": [
              "[(1, 'John Deo', 'Four', 75, 'female'),\n",
              " (2, 'Max Ruin', 'Three', 85, 'male'),\n",
              " (3, 'Arnold', 'Three', 55, 'male'),\n",
              " (4, 'Krish Star', 'Four', 60, 'female'),\n",
              " (5, 'John Mike', 'Four', 60, 'female'),\n",
              " (6, 'Alex John', 'Four', 55, 'male'),\n",
              " (7, 'My John Rob', 'Five', 78, 'male'),\n",
              " (8, 'Asruid', 'Five', 85, 'male'),\n",
              " (9, 'Tes Qry', 'Six', 78, 'male'),\n",
              " (10, 'Big John', 'Four', 55, 'female'),\n",
              " (11, 'Ronald', 'Six', 89, 'female'),\n",
              " (12, 'Recky', 'Six', 94, 'female'),\n",
              " (13, 'Kty', 'Seven', 88, 'female')]"
            ],
            "text/html": [
              "<table>\n",
              "    <thead>\n",
              "        <tr>\n",
              "            <th>id</th>\n",
              "            <th>name</th>\n",
              "            <th>class</th>\n",
              "            <th>mark</th>\n",
              "            <th>gender</th>\n",
              "        </tr>\n",
              "    </thead>\n",
              "    <tbody>\n",
              "        <tr>\n",
              "            <td>1</td>\n",
              "            <td>John Deo</td>\n",
              "            <td>Four</td>\n",
              "            <td>75</td>\n",
              "            <td>female</td>\n",
              "        </tr>\n",
              "        <tr>\n",
              "            <td>2</td>\n",
              "            <td>Max Ruin</td>\n",
              "            <td>Three</td>\n",
              "            <td>85</td>\n",
              "            <td>male</td>\n",
              "        </tr>\n",
              "        <tr>\n",
              "            <td>3</td>\n",
              "            <td>Arnold</td>\n",
              "            <td>Three</td>\n",
              "            <td>55</td>\n",
              "            <td>male</td>\n",
              "        </tr>\n",
              "        <tr>\n",
              "            <td>4</td>\n",
              "            <td>Krish Star</td>\n",
              "            <td>Four</td>\n",
              "            <td>60</td>\n",
              "            <td>female</td>\n",
              "        </tr>\n",
              "        <tr>\n",
              "            <td>5</td>\n",
              "            <td>John Mike</td>\n",
              "            <td>Four</td>\n",
              "            <td>60</td>\n",
              "            <td>female</td>\n",
              "        </tr>\n",
              "        <tr>\n",
              "            <td>6</td>\n",
              "            <td>Alex John</td>\n",
              "            <td>Four</td>\n",
              "            <td>55</td>\n",
              "            <td>male</td>\n",
              "        </tr>\n",
              "        <tr>\n",
              "            <td>7</td>\n",
              "            <td>My John Rob</td>\n",
              "            <td>Five</td>\n",
              "            <td>78</td>\n",
              "            <td>male</td>\n",
              "        </tr>\n",
              "        <tr>\n",
              "            <td>8</td>\n",
              "            <td>Asruid</td>\n",
              "            <td>Five</td>\n",
              "            <td>85</td>\n",
              "            <td>male</td>\n",
              "        </tr>\n",
              "        <tr>\n",
              "            <td>9</td>\n",
              "            <td>Tes Qry</td>\n",
              "            <td>Six</td>\n",
              "            <td>78</td>\n",
              "            <td>male</td>\n",
              "        </tr>\n",
              "        <tr>\n",
              "            <td>10</td>\n",
              "            <td>Big John</td>\n",
              "            <td>Four</td>\n",
              "            <td>55</td>\n",
              "            <td>female</td>\n",
              "        </tr>\n",
              "        <tr>\n",
              "            <td>11</td>\n",
              "            <td>Ronald</td>\n",
              "            <td>Six</td>\n",
              "            <td>89</td>\n",
              "            <td>female</td>\n",
              "        </tr>\n",
              "        <tr>\n",
              "            <td>12</td>\n",
              "            <td>Recky</td>\n",
              "            <td>Six</td>\n",
              "            <td>94</td>\n",
              "            <td>female</td>\n",
              "        </tr>\n",
              "        <tr>\n",
              "            <td>13</td>\n",
              "            <td>Kty</td>\n",
              "            <td>Seven</td>\n",
              "            <td>88</td>\n",
              "            <td>female</td>\n",
              "        </tr>\n",
              "    </tbody>\n",
              "</table>"
            ]
          },
          "metadata": {},
          "execution_count": 8
        }
      ]
    },
    {
      "cell_type": "code",
      "source": [
        "%%sql\n",
        "insert into stud(id,name)\n",
        "select id,name from student1;\n"
      ],
      "metadata": {
        "id": "7PkQVSItnu8U",
        "colab": {
          "base_uri": "https://localhost:8080/"
        },
        "outputId": "c993d678-d7c6-42ae-e66f-4e3d783759e1"
      },
      "execution_count": null,
      "outputs": [
        {
          "output_type": "stream",
          "name": "stdout",
          "text": [
            " * sqlite://\n",
            "(sqlite3.OperationalError) no such table: stud\n",
            "[SQL: insert into stud(id,name)\n",
            "select id,name from student1;]\n",
            "(Background on this error at: https://sqlalche.me/e/20/e3q8)\n"
          ]
        }
      ]
    },
    {
      "cell_type": "code",
      "source": [
        "%%sql\n",
        "select * from stud"
      ],
      "metadata": {
        "id": "2cX7oPVznu59",
        "colab": {
          "base_uri": "https://localhost:8080/"
        },
        "outputId": "173e08a3-70e3-47e7-fd60-8a073c61b5ad"
      },
      "execution_count": null,
      "outputs": [
        {
          "output_type": "stream",
          "name": "stdout",
          "text": [
            " * sqlite://\n",
            "(sqlite3.OperationalError) no such table: stud\n",
            "[SQL: select * from stud]\n",
            "(Background on this error at: https://sqlalche.me/e/20/e3q8)\n"
          ]
        }
      ]
    },
    {
      "cell_type": "code",
      "source": [
        "%%sql\n",
        "CREATE TABLE IF NOT EXISTS student (\n",
        "  id int(2) NOT NULL DEFAULT '0',\n",
        "  name varchar(50) NOT NULL DEFAULT ''\n",
        ") ;"
      ],
      "metadata": {
        "id": "3b4XUgDSnu3B",
        "colab": {
          "base_uri": "https://localhost:8080/"
        },
        "outputId": "2558b343-e50c-4dda-bf3e-a050b770a9cb"
      },
      "execution_count": null,
      "outputs": [
        {
          "output_type": "stream",
          "name": "stdout",
          "text": [
            " * sqlite://\n",
            "Done.\n"
          ]
        },
        {
          "output_type": "execute_result",
          "data": {
            "text/plain": [
              "[]"
            ]
          },
          "metadata": {},
          "execution_count": 19
        }
      ]
    },
    {
      "cell_type": "code",
      "source": [
        "%%sql\n",
        "INSERT INTO student(id, name) VALUES\n",
        "(1, \"John Deo\"),\n",
        "(2, \"Max Ruin\"),\n",
        "(3, \"Arnold\"),\n",
        "(4, \"Krish Star\"),\n",
        "(5, \"John Mike\"),\n",
        "(6, \"Alex John\"),\n",
        "(7, \"My John Rob\"),\n",
        "(8, \"Asruid\"),\n",
        "(9, \"Tes Qry\"),\n",
        "(10, \"Big John\"),\n",
        "(11, \"Ronald\"),\n",
        "(12, \"Recky\"),\n",
        "(13, \"Kty\");"
      ],
      "metadata": {
        "id": "T3Y5Agjznu0K",
        "colab": {
          "base_uri": "https://localhost:8080/"
        },
        "outputId": "d7be00f8-0fdd-422c-f764-9f11489cf10f"
      },
      "execution_count": null,
      "outputs": [
        {
          "output_type": "stream",
          "name": "stdout",
          "text": [
            " * sqlite://\n",
            "13 rows affected.\n"
          ]
        },
        {
          "output_type": "execute_result",
          "data": {
            "text/plain": [
              "[]"
            ]
          },
          "metadata": {},
          "execution_count": 20
        }
      ]
    },
    {
      "cell_type": "code",
      "source": [
        "%%sql\n",
        "select * from student\n"
      ],
      "metadata": {
        "id": "Ms5_7Ga8nuxs",
        "colab": {
          "base_uri": "https://localhost:8080/",
          "height": 347
        },
        "outputId": "d38d29dc-90b8-4a2c-d265-22c596c3657f"
      },
      "execution_count": null,
      "outputs": [
        {
          "output_type": "stream",
          "name": "stdout",
          "text": [
            " * sqlite://\n",
            "Done.\n"
          ]
        },
        {
          "output_type": "execute_result",
          "data": {
            "text/plain": [
              "[(1, 'John Deo'),\n",
              " (2, 'Max Ruin'),\n",
              " (3, 'Arnold'),\n",
              " (4, 'Krish Star'),\n",
              " (5, 'John Mike'),\n",
              " (6, 'Alex John'),\n",
              " (7, 'My John Rob'),\n",
              " (8, 'Asruid'),\n",
              " (9, 'Tes Qry'),\n",
              " (10, 'Big John'),\n",
              " (11, 'Ronald'),\n",
              " (12, 'Recky'),\n",
              " (13, 'Kty')]"
            ],
            "text/html": [
              "<table>\n",
              "    <thead>\n",
              "        <tr>\n",
              "            <th>id</th>\n",
              "            <th>name</th>\n",
              "        </tr>\n",
              "    </thead>\n",
              "    <tbody>\n",
              "        <tr>\n",
              "            <td>1</td>\n",
              "            <td>John Deo</td>\n",
              "        </tr>\n",
              "        <tr>\n",
              "            <td>2</td>\n",
              "            <td>Max Ruin</td>\n",
              "        </tr>\n",
              "        <tr>\n",
              "            <td>3</td>\n",
              "            <td>Arnold</td>\n",
              "        </tr>\n",
              "        <tr>\n",
              "            <td>4</td>\n",
              "            <td>Krish Star</td>\n",
              "        </tr>\n",
              "        <tr>\n",
              "            <td>5</td>\n",
              "            <td>John Mike</td>\n",
              "        </tr>\n",
              "        <tr>\n",
              "            <td>6</td>\n",
              "            <td>Alex John</td>\n",
              "        </tr>\n",
              "        <tr>\n",
              "            <td>7</td>\n",
              "            <td>My John Rob</td>\n",
              "        </tr>\n",
              "        <tr>\n",
              "            <td>8</td>\n",
              "            <td>Asruid</td>\n",
              "        </tr>\n",
              "        <tr>\n",
              "            <td>9</td>\n",
              "            <td>Tes Qry</td>\n",
              "        </tr>\n",
              "        <tr>\n",
              "            <td>10</td>\n",
              "            <td>Big John</td>\n",
              "        </tr>\n",
              "        <tr>\n",
              "            <td>11</td>\n",
              "            <td>Ronald</td>\n",
              "        </tr>\n",
              "        <tr>\n",
              "            <td>12</td>\n",
              "            <td>Recky</td>\n",
              "        </tr>\n",
              "        <tr>\n",
              "            <td>13</td>\n",
              "            <td>Kty</td>\n",
              "        </tr>\n",
              "    </tbody>\n",
              "</table>"
            ]
          },
          "metadata": {},
          "execution_count": 21
        }
      ]
    },
    {
      "cell_type": "code",
      "source": [
        "%%sql\n",
        "select * from student1"
      ],
      "metadata": {
        "colab": {
          "base_uri": "https://localhost:8080/",
          "height": 347
        },
        "id": "3okMQRhIaUYb",
        "outputId": "975ff9f9-41c0-4adc-aee8-76dc4b85c180"
      },
      "execution_count": null,
      "outputs": [
        {
          "output_type": "stream",
          "name": "stdout",
          "text": [
            " * sqlite://\n",
            "Done.\n"
          ]
        },
        {
          "output_type": "execute_result",
          "data": {
            "text/plain": [
              "[(1, 'John Deo', 'Four', 75, 'female'),\n",
              " (2, 'Max Ruin', 'Three', 85, 'male'),\n",
              " (3, 'Arnold', 'Three', 55, 'male'),\n",
              " (4, 'Krish Star', 'Four', 60, 'female'),\n",
              " (5, 'John Mike', 'Four', 60, 'female'),\n",
              " (6, 'Alex John', 'Four', 55, 'male'),\n",
              " (7, 'My John Rob', 'Five', 78, 'male'),\n",
              " (8, 'Asruid', 'Five', 85, 'male'),\n",
              " (9, 'Tes Qry', 'Six', 78, 'male'),\n",
              " (10, 'Big John', 'Four', 55, 'female'),\n",
              " (11, 'Ronald', 'Six', 89, 'female'),\n",
              " (12, 'Recky', 'Six', 94, 'female'),\n",
              " (13, 'Kty', 'Seven', 88, 'female')]"
            ],
            "text/html": [
              "<table>\n",
              "    <thead>\n",
              "        <tr>\n",
              "            <th>id</th>\n",
              "            <th>name</th>\n",
              "            <th>class</th>\n",
              "            <th>mark</th>\n",
              "            <th>gender</th>\n",
              "        </tr>\n",
              "    </thead>\n",
              "    <tbody>\n",
              "        <tr>\n",
              "            <td>1</td>\n",
              "            <td>John Deo</td>\n",
              "            <td>Four</td>\n",
              "            <td>75</td>\n",
              "            <td>female</td>\n",
              "        </tr>\n",
              "        <tr>\n",
              "            <td>2</td>\n",
              "            <td>Max Ruin</td>\n",
              "            <td>Three</td>\n",
              "            <td>85</td>\n",
              "            <td>male</td>\n",
              "        </tr>\n",
              "        <tr>\n",
              "            <td>3</td>\n",
              "            <td>Arnold</td>\n",
              "            <td>Three</td>\n",
              "            <td>55</td>\n",
              "            <td>male</td>\n",
              "        </tr>\n",
              "        <tr>\n",
              "            <td>4</td>\n",
              "            <td>Krish Star</td>\n",
              "            <td>Four</td>\n",
              "            <td>60</td>\n",
              "            <td>female</td>\n",
              "        </tr>\n",
              "        <tr>\n",
              "            <td>5</td>\n",
              "            <td>John Mike</td>\n",
              "            <td>Four</td>\n",
              "            <td>60</td>\n",
              "            <td>female</td>\n",
              "        </tr>\n",
              "        <tr>\n",
              "            <td>6</td>\n",
              "            <td>Alex John</td>\n",
              "            <td>Four</td>\n",
              "            <td>55</td>\n",
              "            <td>male</td>\n",
              "        </tr>\n",
              "        <tr>\n",
              "            <td>7</td>\n",
              "            <td>My John Rob</td>\n",
              "            <td>Five</td>\n",
              "            <td>78</td>\n",
              "            <td>male</td>\n",
              "        </tr>\n",
              "        <tr>\n",
              "            <td>8</td>\n",
              "            <td>Asruid</td>\n",
              "            <td>Five</td>\n",
              "            <td>85</td>\n",
              "            <td>male</td>\n",
              "        </tr>\n",
              "        <tr>\n",
              "            <td>9</td>\n",
              "            <td>Tes Qry</td>\n",
              "            <td>Six</td>\n",
              "            <td>78</td>\n",
              "            <td>male</td>\n",
              "        </tr>\n",
              "        <tr>\n",
              "            <td>10</td>\n",
              "            <td>Big John</td>\n",
              "            <td>Four</td>\n",
              "            <td>55</td>\n",
              "            <td>female</td>\n",
              "        </tr>\n",
              "        <tr>\n",
              "            <td>11</td>\n",
              "            <td>Ronald</td>\n",
              "            <td>Six</td>\n",
              "            <td>89</td>\n",
              "            <td>female</td>\n",
              "        </tr>\n",
              "        <tr>\n",
              "            <td>12</td>\n",
              "            <td>Recky</td>\n",
              "            <td>Six</td>\n",
              "            <td>94</td>\n",
              "            <td>female</td>\n",
              "        </tr>\n",
              "        <tr>\n",
              "            <td>13</td>\n",
              "            <td>Kty</td>\n",
              "            <td>Seven</td>\n",
              "            <td>88</td>\n",
              "            <td>female</td>\n",
              "        </tr>\n",
              "    </tbody>\n",
              "</table>"
            ]
          },
          "metadata": {},
          "execution_count": 22
        }
      ]
    },
    {
      "cell_type": "code",
      "source": [
        "%%sql\n",
        "alter table student1\n",
        "drop class\n"
      ],
      "metadata": {
        "colab": {
          "base_uri": "https://localhost:8080/"
        },
        "id": "8jXYpv6uaUVC",
        "outputId": "da217ebb-8d4e-4dcc-979e-62bf60184f82"
      },
      "execution_count": null,
      "outputs": [
        {
          "output_type": "stream",
          "name": "stdout",
          "text": [
            " * sqlite://\n",
            "Done.\n"
          ]
        },
        {
          "output_type": "execute_result",
          "data": {
            "text/plain": [
              "[]"
            ]
          },
          "metadata": {},
          "execution_count": 43
        }
      ]
    },
    {
      "cell_type": "code",
      "source": [
        "%%sql\n",
        "select * from student1\n",
        "order bY mark desc"
      ],
      "metadata": {
        "colab": {
          "base_uri": "https://localhost:8080/"
        },
        "id": "uSyAtqw-aZQ5",
        "outputId": "e6615f07-3ea7-434f-ffad-b2c52d3eef4b"
      },
      "execution_count": null,
      "outputs": [
        {
          "output_type": "stream",
          "name": "stderr",
          "text": [
            "UsageError: Cell magic `%%sql` not found.\n"
          ]
        }
      ]
    },
    {
      "cell_type": "code",
      "source": [
        "%%sql\n",
        "select name\n",
        "from student as a,student1 as b\n",
        "where a.id=b.id and a.id in (select id from student1 )\n",
        "having mark<max(mark)\n",
        "order by mark desc\n"
      ],
      "metadata": {
        "colab": {
          "base_uri": "https://localhost:8080/"
        },
        "id": "SxHDZQVSaZOl",
        "outputId": "031dd994-e67f-4702-94c5-50091d3f70b2"
      },
      "execution_count": null,
      "outputs": [
        {
          "output_type": "stream",
          "name": "stdout",
          "text": [
            " * sqlite://\n",
            "(sqlite3.OperationalError) a GROUP BY clause is required before HAVING\n",
            "[SQL: select name\n",
            "from student as a,student1 as b\n",
            "where a.id=b.id and a.id in (select id from student1 )\n",
            "having mark<max(mark)\n",
            "order by mark desc]\n",
            "(Background on this error at: https://sqlalche.me/e/20/e3q8)\n"
          ]
        }
      ]
    },
    {
      "cell_type": "code",
      "source": [
        "%%sql"
      ],
      "metadata": {
        "id": "56u8paFfaZMV"
      },
      "execution_count": null,
      "outputs": []
    },
    {
      "cell_type": "code",
      "source": [
        "%%sql"
      ],
      "metadata": {
        "id": "T6KwLdRYaZJ1"
      },
      "execution_count": null,
      "outputs": []
    },
    {
      "cell_type": "code",
      "source": [
        "%%sql"
      ],
      "metadata": {
        "id": "7dBv33bSaUSk"
      },
      "execution_count": null,
      "outputs": []
    }
  ]
}