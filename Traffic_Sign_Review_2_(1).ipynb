{
  "cells": [
    {
      "cell_type": "markdown",
      "metadata": {
        "id": "view-in-github",
        "colab_type": "text"
      },
      "source": [
        "<a href=\"https://colab.research.google.com/github/varunjakanur/BC/blob/main/Traffic_Sign_Review_2_(1).ipynb\" target=\"_parent\"><img src=\"https://colab.research.google.com/assets/colab-badge.svg\" alt=\"Open In Colab\"/></a>"
      ]
    },
    {
      "cell_type": "markdown",
      "id": "21effbe3",
      "metadata": {
        "id": "21effbe3"
      },
      "source": [
        "## Import Required Libraries"
      ]
    },
    {
      "cell_type": "code",
      "source": [
        "import numpy as np\n",
        "import pandas as pd\n",
        "import matplotlib.pyplot as plt\n",
        "import cv2\n",
        "import tensorflow as tf\n",
        "from PIL import Image\n",
        "import os\n",
        "os.chdir('/content/archive.zip')\n",
        "from sklearn.model_selection import train_test_split\n",
        "from keras.utils import to_categorical\n",
        "from keras.models import Sequential, load_model\n",
        "from keras.layers import Conv2D, MaxPool2D, Dense, Flatten, Dropout"
      ],
      "metadata": {
        "id": "siRC__vIq1Wh"
      },
      "id": "siRC__vIq1Wh",
      "execution_count": null,
      "outputs": []
    },
    {
      "cell_type": "code",
      "source": [
        "from google.colab import drive\n",
        "drive.mount('/content/drive')"
      ],
      "metadata": {
        "colab": {
          "base_uri": "https://localhost:8080/"
        },
        "id": "aLPRJubSN6TJ",
        "outputId": "356f59f3-c99f-4b1b-a1cf-0de6c6402ca1"
      },
      "id": "aLPRJubSN6TJ",
      "execution_count": null,
      "outputs": [
        {
          "output_type": "stream",
          "name": "stdout",
          "text": [
            "Drive already mounted at /content/drive; to attempt to forcibly remount, call drive.mount(\"/content/drive\", force_remount=True).\n"
          ]
        }
      ]
    },
    {
      "cell_type": "code",
      "source": [
        "!ls /content/drive/MyDrive/"
      ],
      "metadata": {
        "colab": {
          "base_uri": "https://localhost:8080/"
        },
        "id": "5kGfl1JdPtZF",
        "outputId": "38f36f0b-8fda-4c63-acf3-7ff48dc9437d"
      },
      "id": "5kGfl1JdPtZF",
      "execution_count": null,
      "outputs": [
        {
          "output_type": "stream",
          "name": "stdout",
          "text": [
            " 5_6120849758585096056.docx\n",
            " archive.zip\n",
            "'ashu  Kannada pdf 1.pdf'\n",
            "'Automated Traffic Sign Recognition.pptx'\n",
            "'BCom I Sem English Text book (1).pdf'\n",
            "'BCom I Sem English Text book.pdf'\n",
            " cartoonGAN\n",
            " Classroom\n",
            "'Colab Notebooks'\n",
            " MeshDeformNet\n",
            " mini\n",
            "'Multicore vs Multiprocessor. Which gives better performance according to you?.gsheet'\n",
            "'New Doc 03-27-2023 18.38-1.pdf'\n",
            "'New Doc 03-27-2023 18.38.pdf'\n",
            "'New Doc 03-27-2023 18.44.pdf'\n",
            "'New Doc 03-28-2023 18.43.pdf'\n",
            "'PDFGallery_20230328_171424 (1).pdf'\n",
            "'PDFGallery_20230328_171424 (2).pdf'\n",
            " PDFGallery_20230328_171424.pdf\n",
            "'Varun Shankar Jakanur_Kle Tech University.pdf'\n",
            " Yoti\n",
            " ಮೊದಲನೆಯ_ಸೆಮಿಸ್ಟರ್_ನ_ಎಲ್ಲ_ನೋಟ್ಸ್.docx\n"
          ]
        }
      ]
    },
    {
      "cell_type": "code",
      "source": [
        "!unzip archive"
      ],
      "metadata": {
        "colab": {
          "base_uri": "https://localhost:8080/"
        },
        "id": "YpE45RJ_PtSG",
        "outputId": "3a87ee0b-e07e-4dfa-fc48-305f84607413"
      },
      "id": "YpE45RJ_PtSG",
      "execution_count": null,
      "outputs": [
        {
          "output_type": "stream",
          "name": "stdout",
          "text": [
            "unzip:  cannot find or open archive, archive.zip or archive.ZIP.\n"
          ]
        }
      ]
    },
    {
      "cell_type": "code",
      "source": [
        "!unzip MyDrive/archive.zip"
      ],
      "metadata": {
        "colab": {
          "base_uri": "https://localhost:8080/"
        },
        "id": "AYN6LLktOZRr",
        "outputId": "0d10f4a4-ff73-4865-9d0a-9389795ccf7b"
      },
      "id": "AYN6LLktOZRr",
      "execution_count": null,
      "outputs": [
        {
          "output_type": "stream",
          "name": "stdout",
          "text": [
            "unzip:  cannot find or open MyDrive/archive.zip, MyDrive/archive.zip.zip or MyDrive/archive.zip.ZIP.\n"
          ]
        }
      ]
    },
    {
      "cell_type": "markdown",
      "id": "4a35699b",
      "metadata": {
        "id": "4a35699b"
      },
      "source": [
        "### Store Data, Labels in the List"
      ]
    },
    {
      "cell_type": "code",
      "execution_count": null,
      "id": "3884aa2f",
      "metadata": {
        "id": "3884aa2f"
      },
      "outputs": [],
      "source": [
        "data = []\n",
        "labels = []\n",
        "# We have 43 Classes\n",
        "classes = 43\n",
        "cur_path = os.getcwd()"
      ]
    },
    {
      "cell_type": "code",
      "execution_count": null,
      "id": "fe470cfe",
      "metadata": {
        "id": "fe470cfe",
        "outputId": "9dec6ba9-aad0-460a-92c3-51bd0123a8a5"
      },
      "outputs": [
        {
          "data": {
            "text/plain": [
              "'F:\\\\5th Sem\\\\Mini-Project\\\\Traffic'"
            ]
          },
          "execution_count": 6,
          "metadata": {},
          "output_type": "execute_result"
        }
      ],
      "source": [
        "cur_path"
      ]
    },
    {
      "cell_type": "markdown",
      "id": "57049baf",
      "metadata": {
        "id": "57049baf"
      },
      "source": [
        "## Preprocess the Images"
      ]
    },
    {
      "cell_type": "code",
      "execution_count": null,
      "id": "4670765c",
      "metadata": {
        "id": "4670765c"
      },
      "outputs": [],
      "source": [
        "for i in range(classes):\n",
        "    path = os.path.join(cur_path,'train',str(i))\n",
        "    images = os.listdir(path)\n",
        "    for a in images:\n",
        "        try:\n",
        "            image = Image.open(path + '\\\\'+ a)\n",
        "            image = image.resize((30,30))\n",
        "            image = np.array(image)\n",
        "            data.append(image)\n",
        "            labels.append(i)\n",
        "        except Exception as e:\n",
        "            print(e)"
      ]
    },
    {
      "cell_type": "markdown",
      "id": "77a421ec",
      "metadata": {
        "id": "77a421ec"
      },
      "source": [
        "## Converting Lists into numpy arrays"
      ]
    },
    {
      "cell_type": "code",
      "execution_count": null,
      "id": "b8c0fe43",
      "metadata": {
        "id": "b8c0fe43"
      },
      "outputs": [],
      "source": [
        "data = np.array(data)\n",
        "labels = np.array(labels)"
      ]
    },
    {
      "cell_type": "markdown",
      "id": "02e25acc",
      "metadata": {
        "id": "02e25acc"
      },
      "source": [
        "### Save Labels & Data for future use"
      ]
    },
    {
      "cell_type": "code",
      "execution_count": null,
      "id": "3f5a8719",
      "metadata": {
        "id": "3f5a8719"
      },
      "outputs": [],
      "source": [
        "os.mkdir('training')\n",
        "\n",
        "np.save('./training/data',data)\n",
        "np.save('./training/target',labels)"
      ]
    },
    {
      "cell_type": "markdown",
      "id": "17b0c78a",
      "metadata": {
        "id": "17b0c78a"
      },
      "source": [
        "### Load data & labels"
      ]
    },
    {
      "cell_type": "code",
      "execution_count": null,
      "id": "fb7b0d4b",
      "metadata": {
        "id": "fb7b0d4b"
      },
      "outputs": [],
      "source": [
        "data=np.load('./training/data.npy')\n",
        "labels=np.load('./training/target.npy')\n",
        "\n"
      ]
    },
    {
      "cell_type": "code",
      "execution_count": null,
      "id": "f403a837",
      "metadata": {
        "id": "f403a837",
        "outputId": "769bf231-4e57-4718-ed67-8146683737b7"
      },
      "outputs": [
        {
          "name": "stdout",
          "output_type": "stream",
          "text": [
            "(39209, 30, 30, 3) (39209,)\n"
          ]
        }
      ],
      "source": [
        "print(data.shape, labels.shape)"
      ]
    },
    {
      "cell_type": "code",
      "execution_count": null,
      "id": "b1348766",
      "metadata": {
        "id": "b1348766"
      },
      "outputs": [],
      "source": [
        "X_train, X_test, y_train, y_test = train_test_split(data, labels, test_size=0.2, random_state=0)\n"
      ]
    },
    {
      "cell_type": "code",
      "execution_count": null,
      "id": "66ea56df",
      "metadata": {
        "id": "66ea56df",
        "outputId": "3f9a7fad-4635-4274-e4b1-552333f907ea"
      },
      "outputs": [
        {
          "name": "stdout",
          "output_type": "stream",
          "text": [
            "(31367, 30, 30, 3) (7842, 30, 30, 3) (31367,) (7842,)\n"
          ]
        }
      ],
      "source": [
        "print(X_train.shape, X_test.shape, y_train.shape, y_test.shape)"
      ]
    },
    {
      "cell_type": "markdown",
      "id": "f1c8aeb8",
      "metadata": {
        "id": "f1c8aeb8"
      },
      "source": [
        "## Convert labels to onehot encoding"
      ]
    },
    {
      "cell_type": "code",
      "execution_count": null,
      "id": "64f8a5f2",
      "metadata": {
        "id": "64f8a5f2"
      },
      "outputs": [],
      "source": [
        "y_train = to_categorical(y_train, 43)\n",
        "y_test = to_categorical(y_test, 43)"
      ]
    },
    {
      "cell_type": "markdown",
      "id": "5b05080a",
      "metadata": {
        "id": "5b05080a"
      },
      "source": [
        "#                   Building the model"
      ]
    },
    {
      "cell_type": "code",
      "execution_count": null,
      "id": "33745d45",
      "metadata": {
        "id": "33745d45"
      },
      "outputs": [],
      "source": [
        "model = Sequential()\n",
        "model.add(Conv2D(filters=32, kernel_size=(5,5), activation='relu', input_shape=X_train.shape[1:]))\n",
        "model.add(Conv2D(filters=32, kernel_size=(5,5), activation='relu'))\n",
        "model.add(MaxPool2D(pool_size=(2, 2)))\n",
        "model.add(Dropout(rate=0.25))\n",
        "model.add(Conv2D(filters=64, kernel_size=(3, 3), activation='relu'))\n",
        "model.add(Conv2D(filters=64, kernel_size=(3, 3), activation='relu'))\n",
        "model.add(MaxPool2D(pool_size=(2, 2)))\n",
        "model.add(Dropout(rate=0.25))\n",
        "model.add(Flatten())\n",
        "model.add(Dense(256, activation='relu'))\n",
        "model.add(Dropout(rate=0.5))\n",
        "# We have 43 classes that's why we have defined 43 in the dense\n",
        "model.add(Dense(43, activation='softmax'))"
      ]
    },
    {
      "cell_type": "code",
      "execution_count": null,
      "id": "41a8ae13",
      "metadata": {
        "id": "41a8ae13"
      },
      "outputs": [],
      "source": [
        "#Compilation of the model\n",
        "model.compile(loss='categorical_crossentropy', optimizer='adam', metrics=['accuracy'])\n",
        "\n",
        "#categorical_crossentropy is an intution of ONE-HOT-ENCODING"
      ]
    },
    {
      "cell_type": "code",
      "execution_count": null,
      "id": "f758ac80",
      "metadata": {
        "scrolled": true,
        "id": "f758ac80",
        "outputId": "481bcf61-6972-45b8-ee18-213a8c08f50e"
      },
      "outputs": [
        {
          "name": "stdout",
          "output_type": "stream",
          "text": [
            "Epoch 1/20\n",
            "981/981 [==============================] - 92s 93ms/step - loss: 2.0714 - accuracy: 0.4715 - val_loss: 0.6573 - val_accuracy: 0.8497\n",
            "Epoch 2/20\n",
            "981/981 [==============================] - 91s 93ms/step - loss: 0.8074 - accuracy: 0.7584 - val_loss: 0.3004 - val_accuracy: 0.9166\n",
            "Epoch 3/20\n",
            "981/981 [==============================] - 88s 89ms/step - loss: 0.5599 - accuracy: 0.8338 - val_loss: 0.1791 - val_accuracy: 0.9496\n",
            "Epoch 4/20\n",
            "981/981 [==============================] - 91s 93ms/step - loss: 0.4336 - accuracy: 0.8706 - val_loss: 0.1408 - val_accuracy: 0.9593\n",
            "Epoch 5/20\n",
            "981/981 [==============================] - 94s 96ms/step - loss: 0.3657 - accuracy: 0.8902 - val_loss: 0.1172 - val_accuracy: 0.9668\n",
            "Epoch 6/20\n",
            "981/981 [==============================] - 91s 93ms/step - loss: 0.3239 - accuracy: 0.9049 - val_loss: 0.1038 - val_accuracy: 0.9722\n",
            "Epoch 7/20\n",
            "981/981 [==============================] - 92s 94ms/step - loss: 0.3036 - accuracy: 0.9108 - val_loss: 0.1349 - val_accuracy: 0.9648\n",
            "Epoch 8/20\n",
            "981/981 [==============================] - 2772s 3s/step - loss: 0.2835 - accuracy: 0.9172 - val_loss: 0.0832 - val_accuracy: 0.9756\n",
            "Epoch 9/20\n",
            "981/981 [==============================] - 89s 91ms/step - loss: 0.2612 - accuracy: 0.9275 - val_loss: 0.0891 - val_accuracy: 0.9718\n",
            "Epoch 10/20\n",
            "981/981 [==============================] - 90s 92ms/step - loss: 0.2641 - accuracy: 0.9274 - val_loss: 0.0774 - val_accuracy: 0.9802\n",
            "Epoch 11/20\n",
            "981/981 [==============================] - 90s 92ms/step - loss: 0.2176 - accuracy: 0.9390 - val_loss: 0.0695 - val_accuracy: 0.9793\n",
            "Epoch 12/20\n",
            "981/981 [==============================] - 91s 92ms/step - loss: 0.2211 - accuracy: 0.9379 - val_loss: 0.0888 - val_accuracy: 0.9765\n",
            "Epoch 13/20\n",
            "981/981 [==============================] - 90s 92ms/step - loss: 0.2322 - accuracy: 0.9364 - val_loss: 0.0581 - val_accuracy: 0.9850\n",
            "Epoch 14/20\n",
            "981/981 [==============================] - 90s 92ms/step - loss: 0.2137 - accuracy: 0.9420 - val_loss: 0.0781 - val_accuracy: 0.9793\n",
            "Epoch 15/20\n",
            "981/981 [==============================] - 91s 93ms/step - loss: 0.2060 - accuracy: 0.9424 - val_loss: 0.0764 - val_accuracy: 0.9819\n",
            "Epoch 16/20\n",
            "981/981 [==============================] - 90s 92ms/step - loss: 0.2022 - accuracy: 0.9442 - val_loss: 0.1033 - val_accuracy: 0.9711\n",
            "Epoch 17/20\n",
            "981/981 [==============================] - 86s 88ms/step - loss: 0.2034 - accuracy: 0.9446 - val_loss: 0.0620 - val_accuracy: 0.9821\n",
            "Epoch 18/20\n",
            "981/981 [==============================] - 90s 91ms/step - loss: 0.2024 - accuracy: 0.9464 - val_loss: 0.0702 - val_accuracy: 0.9806\n",
            "Epoch 19/20\n",
            "981/981 [==============================] - 91s 93ms/step - loss: 0.2222 - accuracy: 0.9411 - val_loss: 0.0917 - val_accuracy: 0.9763\n",
            "Epoch 20/20\n",
            "981/981 [==============================] - 90s 92ms/step - loss: 0.1993 - accuracy: 0.9473 - val_loss: 0.0800 - val_accuracy: 0.9801\n"
          ]
        }
      ],
      "source": [
        "epochs = 20\n",
        "history = model.fit(X_train, y_train, batch_size=32, epochs=epochs, validation_data=(X_test, y_test))"
      ]
    },
    {
      "cell_type": "code",
      "execution_count": null,
      "id": "0cb20909",
      "metadata": {
        "id": "0cb20909",
        "outputId": "56843d4b-e4ba-471c-cf42-a49804bacfa0"
      },
      "outputs": [
        {
          "data": {
            "image/png": "[encoded data removed]",
            "text/plain": [
              "<Figure size 432x288 with 1 Axes>"
            ]
          },
          "metadata": {
            "needs_background": "light"
          },
          "output_type": "display_data"
        }
      ],
      "source": [
        "# accuracy\n",
        "plt.figure(0)\n",
        "plt.plot(history.history['accuracy'], label='training accuracy')\n",
        "plt.plot(history.history['val_accuracy'], label='val accuracy')\n",
        "plt.title('Accuracy')\n",
        "plt.xlabel('epochs')\n",
        "plt.ylabel('accuracy')\n",
        "plt.legend()\n",
        "plt.show()"
      ]
    },
    {
      "cell_type": "code",
      "execution_count": null,
      "id": "984dffa1",
      "metadata": {
        "id": "984dffa1",
        "outputId": "bda0069d-2240-426b-a528-297a5b2f4a68"
      },
      "outputs": [
        {
          "data": {
            "image/png": "[encoded data removed]",
            "text/plain": [
              "<Figure size 432x288 with 1 Axes>"
            ]
          },
          "metadata": {
            "needs_background": "light"
          },
          "output_type": "display_data"
        }
      ],
      "source": [
        "# Loss\n",
        "plt.plot(history.history['loss'], label='training loss')\n",
        "plt.plot(history.history['val_loss'], label='val loss')\n",
        "plt.title('Loss')\n",
        "plt.xlabel('epochs')\n",
        "plt.ylabel('loss')\n",
        "plt.legend()\n",
        "plt.show()"
      ]
    },
    {
      "cell_type": "markdown",
      "id": "1d53042b",
      "metadata": {
        "id": "1d53042b"
      },
      "source": [
        "## Let's do testing on the Test data"
      ]
    },
    {
      "cell_type": "code",
      "execution_count": null,
      "id": "d7c139eb",
      "metadata": {
        "id": "d7c139eb"
      },
      "outputs": [],
      "source": [
        "def testing(testcsv):\n",
        "    y_test = pd.read_csv(testcsv)\n",
        "    label = y_test[\"ClassId\"].values\n",
        "    imgs = y_test[\"Path\"].values\n",
        "    data=[]\n",
        "    for img in imgs:\n",
        "        image = Image.open(img)\n",
        "        image = image.resize((30,30))\n",
        "        data.append(np.array(image))\n",
        "    X_test=np.array(data)\n",
        "    return X_test,label"
      ]
    },
    {
      "cell_type": "code",
      "execution_count": null,
      "id": "8fb238e4",
      "metadata": {
        "id": "8fb238e4"
      },
      "outputs": [],
      "source": [
        "X_test, label = testing('Test.csv')"
      ]
    },
    {
      "cell_type": "code",
      "execution_count": null,
      "id": "05787ef2",
      "metadata": {
        "id": "05787ef2",
        "outputId": "9603c574-a15c-4de7-f427-286c48e6e0e6"
      },
      "outputs": [
        {
          "name": "stdout",
          "output_type": "stream",
          "text": [
            "395/395 [==============================] - 5s 13ms/step\n"
          ]
        },
        {
          "data": {
            "text/plain": [
              "array([16,  1, 38, ...,  5,  7, 10], dtype=int64)"
            ]
          },
          "execution_count": 39,
          "metadata": {},
          "output_type": "execute_result"
        }
      ],
      "source": [
        "Y_pred = np.argmax(model.predict(X_test), axis=1)\n",
        "Y_pred"
      ]
    },
    {
      "cell_type": "markdown",
      "id": "b1fb5fdd",
      "metadata": {
        "id": "b1fb5fdd"
      },
      "source": [
        "### Accuracy in handling the test data"
      ]
    },
    {
      "cell_type": "code",
      "execution_count": null,
      "id": "67462d75",
      "metadata": {
        "id": "67462d75",
        "outputId": "9842bff5-4223-464c-edf4-b04f057508f0"
      },
      "outputs": [
        {
          "name": "stdout",
          "output_type": "stream",
          "text": [
            "0.944972288202692\n"
          ]
        }
      ],
      "source": [
        "from sklearn.metrics import accuracy_score\n",
        "print(accuracy_score(label, Y_pred))"
      ]
    },
    {
      "cell_type": "markdown",
      "id": "90c370e2",
      "metadata": {
        "id": "90c370e2"
      },
      "source": [
        "### Save the model"
      ]
    },
    {
      "cell_type": "code",
      "execution_count": null,
      "id": "d4da4e7f",
      "metadata": {
        "id": "d4da4e7f"
      },
      "outputs": [],
      "source": [
        "model.save(\"./training/TSR.h5\")"
      ]
    },
    {
      "cell_type": "markdown",
      "id": "0942d68b",
      "metadata": {
        "id": "0942d68b"
      },
      "source": [
        "### Load the Model"
      ]
    },
    {
      "cell_type": "code",
      "execution_count": null,
      "id": "639e69bd",
      "metadata": {
        "id": "639e69bd"
      },
      "outputs": [],
      "source": [
        "import os\n",
        "os.chdir(r'F:/5th Sem/Mini-Project/Traffic')\n",
        "from keras.models import load_model\n",
        "model = load_model('./training/TSR.h5')"
      ]
    },
    {
      "cell_type": "markdown",
      "id": "b56311c6",
      "metadata": {
        "id": "b56311c6"
      },
      "source": [
        "## Defining the different classes"
      ]
    },
    {
      "cell_type": "code",
      "execution_count": null,
      "id": "692b4cd0",
      "metadata": {
        "id": "692b4cd0"
      },
      "outputs": [],
      "source": [
        "# Classes of trafic signs\n",
        "classes = { 0:'Speed limit (20km/h)',\n",
        "            1:'Speed limit (30km/h)',\n",
        "            2:'Speed limit (50km/h)',\n",
        "            3:'Speed limit (60km/h)',\n",
        "            4:'Speed limit (70km/h)',\n",
        "            5:'Speed limit (80km/h)',\n",
        "            6:'End of speed limit (80km/h)',\n",
        "            7:'Speed limit (100km/h)',\n",
        "            8:'Speed limit (120km/h)',\n",
        "            9:'No passing',\n",
        "            10:'No passing veh over 3.5 tons',\n",
        "            11:'Right-of-way at intersection',\n",
        "            12:'Priority road',\n",
        "            13:'Yield',\n",
        "            14:'Stop',\n",
        "            15:'No vehicles',\n",
        "            16:'Veh > 3.5 tons prohibited',\n",
        "            17:'No entry',\n",
        "            18:'General caution',\n",
        "            19:'Dangerous curve left',\n",
        "            20:'Dangerous curve right',\n",
        "            21:'Double curve',\n",
        "            22:'Bumpy road',\n",
        "            23:'Slippery road',\n",
        "            24:'Road narrows on the right',\n",
        "            25:'Road work',\n",
        "            26:'Traffic signals',\n",
        "            27:'Pedestrians',\n",
        "            28:'Children crossing',\n",
        "            29:'Bicycles crossing',\n",
        "            30:'Beware of ice/snow',\n",
        "            31:'Wild animals crossing',\n",
        "            32:'End speed + passing limits',\n",
        "            33:'Turn right ahead',\n",
        "            34:'Turn left ahead',\n",
        "            35:'Ahead only',\n",
        "            36:'Go straight or right',\n",
        "            37:'Go straight or left',\n",
        "            38:'Keep right',\n",
        "            39:'Keep left',\n",
        "            40:'Roundabout mandatory',\n",
        "            41:'End of no passing',\n",
        "            42:'End no passing veh > 3.5 tons' }"
      ]
    },
    {
      "cell_type": "code",
      "execution_count": null,
      "id": "8e48f0d4",
      "metadata": {
        "id": "8e48f0d4"
      },
      "outputs": [],
      "source": [
        "from PIL import Image\n",
        "import numpy as np\n",
        "import matplotlib.pyplot as plt\n",
        "def test_on_img(img):\n",
        "    data=[]\n",
        "    image = Image.open(img)\n",
        "    image = image.resize((30,30))\n",
        "    data.append(np.array(image))\n",
        "    X_test=np.array(data)\n",
        "    Y_pred = np.argmax(model.predict(X_test), axis=1)\n",
        "    return image,Y_pred"
      ]
    },
    {
      "cell_type": "code",
      "execution_count": null,
      "id": "c6b4c1b4",
      "metadata": {
        "id": "c6b4c1b4",
        "outputId": "011e1425-0d69-44c6-904e-0783438357f7"
      },
      "outputs": [
        {
          "name": "stdout",
          "output_type": "stream",
          "text": [
            "1/1 [==============================] - 0s 305ms/step\n",
            "Predicted traffic sign is:  Speed limit (30km/h)\n"
          ]
        },
        {
          "data": {
            "image/png": "[encoded data removed]",
            "text/plain": [
              "<Figure size 432x288 with 1 Axes>"
            ]
          },
          "metadata": {
            "needs_background": "light"
          },
          "output_type": "display_data"
        }
      ],
      "source": [
        "plot,prediction = test_on_img(r'F:/5th Sem/Mini-Project/Traffic/Test/00284.png')\n",
        "s = [str(i) for i in prediction]\n",
        "a = int(\"\".join(s))\n",
        "print(\"Predicted traffic sign is: \", classes[a])\n",
        "plt.imshow(plot)\n",
        "plt.show()"
      ]
    },
    {
      "cell_type": "code",
      "execution_count": null,
      "id": "7651dd9a",
      "metadata": {
        "id": "7651dd9a",
        "outputId": "c399a675-ade1-4fbf-b157-3db0889481f6"
      },
      "outputs": [
        {
          "name": "stdout",
          "output_type": "stream",
          "text": [
            "1/1 [==============================] - 0s 28ms/step\n",
            "Predicted traffic sign is:  Turn right ahead\n"
          ]
        },
        {
          "data": {
            "image/png": "[encoded data removed]",
            "text/plain": [
              "<Figure size 432x288 with 1 Axes>"
            ]
          },
          "metadata": {
            "needs_background": "light"
          },
          "output_type": "display_data"
        }
      ],
      "source": [
        "plot,prediction = test_on_img(r'F:/5th Sem/Mini-Project/Traffic/Test/00174.png')\n",
        "s = [str(i) for i in prediction]\n",
        "a = int(\"\".join(s))\n",
        "print(\"Predicted traffic sign is: \", classes[a])\n",
        "plt.imshow(plot)\n",
        "plt.show()"
      ]
    },
    {
      "cell_type": "code",
      "execution_count": null,
      "id": "f036c84a",
      "metadata": {
        "id": "f036c84a",
        "outputId": "05318790-8c13-46d2-e18d-4d412e060789"
      },
      "outputs": [
        {
          "name": "stdout",
          "output_type": "stream",
          "text": [
            "1/1 [==============================] - 0s 22ms/step\n",
            "Predicted traffic sign is:  Speed limit (70km/h)\n"
          ]
        },
        {
          "data": {
            "image/png": "[encoded data removed]",
            "text/plain": [
              "<Figure size 432x288 with 1 Axes>"
            ]
          },
          "metadata": {
            "needs_background": "light"
          },
          "output_type": "display_data"
        }
      ],
      "source": [
        "plot,prediction = test_on_img(r'F:/5th Sem/Mini-Project/Traffic/Test/01017.png')\n",
        "s = [str(i) for i in prediction]\n",
        "a = int(\"\".join(s))\n",
        "print(\"Predicted traffic sign is: \", classes[a])\n",
        "plt.imshow(plot)\n",
        "plt.show()"
      ]
    }
  ],
  "metadata": {
    "kernelspec": {
      "display_name": "Python 3 (ipykernel)",
      "language": "python",
      "name": "python3"
    },
    "language_info": {
      "codemirror_mode": {
        "name": "ipython",
        "version": 3
      },
      "file_extension": ".py",
      "mimetype": "text/x-python",
      "name": "python",
      "nbconvert_exporter": "python",
      "pygments_lexer": "ipython3",
      "version": "3.9.7"
    },
    "colab": {
      "provenance": [],
      "include_colab_link": true
    }
  },
  "nbformat": 4,
  "nbformat_minor": 5
}